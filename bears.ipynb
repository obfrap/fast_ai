{
  "nbformat": 4,
  "nbformat_minor": 0,
  "metadata": {
    "colab": {
      "name": "bears.ipynb",
      "provenance": [],
      "authorship_tag": "ABX9TyMZz/UlEsOaJsz71qxRySyY",
      "include_colab_link": true
    },
    "kernelspec": {
      "name": "python3",
      "display_name": "Python 3"
    },
    "accelerator": "GPU",
    "widgets": {
      "application/vnd.jupyter.widget-state+json": {
        "81446e5ad72d430b9fe8edd0e5b6d6fb": {
          "model_module": "@jupyter-widgets/controls",
          "model_name": "VBoxModel",
          "state": {
            "_view_name": "VBoxView",
            "_dom_classes": [],
            "_model_name": "VBoxModel",
            "_view_module": "@jupyter-widgets/controls",
            "_model_module_version": "1.5.0",
            "_view_count": null,
            "_view_module_version": "1.5.0",
            "box_style": "",
            "layout": "IPY_MODEL_e26d3e59d8e54b7db01ee31c173da52c",
            "_model_module": "@jupyter-widgets/controls",
            "children": [
              "IPY_MODEL_af9c01b893944492a9bdcfacf2ebcf02",
              "IPY_MODEL_ed8d4e2ce30e4e8088362e528c86f5ad",
              "IPY_MODEL_75fb00e67b9f427485a85c83dad74fee",
              "IPY_MODEL_7fd64ff38c7f4fb6a56c1f2541411a67"
            ]
          }
        },
        "e26d3e59d8e54b7db01ee31c173da52c": {
          "model_module": "@jupyter-widgets/base",
          "model_name": "LayoutModel",
          "state": {
            "_view_name": "LayoutView",
            "grid_template_rows": null,
            "right": null,
            "justify_content": null,
            "_view_module": "@jupyter-widgets/base",
            "overflow": null,
            "_model_module_version": "1.2.0",
            "_view_count": null,
            "flex_flow": null,
            "width": null,
            "min_width": null,
            "border": null,
            "align_items": null,
            "bottom": null,
            "_model_module": "@jupyter-widgets/base",
            "top": null,
            "grid_column": null,
            "overflow_y": null,
            "overflow_x": null,
            "grid_auto_flow": null,
            "grid_area": null,
            "grid_template_columns": null,
            "flex": null,
            "_model_name": "LayoutModel",
            "justify_items": null,
            "grid_row": null,
            "max_height": null,
            "align_content": null,
            "visibility": null,
            "align_self": null,
            "height": null,
            "min_height": null,
            "padding": null,
            "grid_auto_rows": null,
            "grid_gap": null,
            "max_width": null,
            "order": null,
            "_view_module_version": "1.2.0",
            "grid_template_areas": null,
            "object_position": null,
            "object_fit": null,
            "grid_auto_columns": null,
            "margin": null,
            "display": null,
            "left": null
          }
        },
        "af9c01b893944492a9bdcfacf2ebcf02": {
          "model_module": "@jupyter-widgets/controls",
          "model_name": "LabelModel",
          "state": {
            "_view_name": "LabelView",
            "style": "IPY_MODEL_75aa41294bb24c22b52fbb67e9191e22",
            "_dom_classes": [],
            "description": "",
            "_model_name": "LabelModel",
            "placeholder": "​",
            "_view_module": "@jupyter-widgets/controls",
            "_model_module_version": "1.5.0",
            "value": "Select your bear!",
            "_view_count": null,
            "_view_module_version": "1.5.0",
            "description_tooltip": null,
            "_model_module": "@jupyter-widgets/controls",
            "layout": "IPY_MODEL_23e7ce09104746d6bf595594e17d9bd1"
          }
        },
        "ed8d4e2ce30e4e8088362e528c86f5ad": {
          "model_module": "@jupyter-widgets/controls",
          "model_name": "FileUploadModel",
          "state": {
            "_view_name": "FileUploadView",
            "_counter": 1,
            "style": "IPY_MODEL_eee3e4a538e9472f89634a369c9a98ae",
            "_dom_classes": [],
            "description": "Upload",
            "multiple": false,
            "_model_name": "FileUploadModel",
            "data": [
              null
            ],
            "button_style": "",
            "_view_module": "@jupyter-widgets/controls",
            "_model_module_version": "1.5.0",
            "accept": "",
            "_view_count": null,
            "disabled": false,
            "_view_module_version": "1.5.0",
            "error": "",
            "description_tooltip": null,
            "metadata": [
              {
                "name": "exoplanets.jpg",
                "type": "image/jpeg",
                "size": 386469,
                "lastModified": 1598405655481
              }
            ],
            "_model_module": "@jupyter-widgets/controls",
            "layout": "IPY_MODEL_c31ca0fd35f04b04beb2ea55b9286893",
            "icon": "upload"
          }
        },
        "75fb00e67b9f427485a85c83dad74fee": {
          "model_module": "@jupyter-widgets/output",
          "model_name": "OutputModel",
          "state": {
            "_view_name": "OutputView",
            "msg_id": "",
            "_dom_classes": [],
            "_model_name": "OutputModel",
            "outputs": [
              {
                "output_type": "display_data",
                "metadata": {
                  "tags": []
                },
                "image/png": "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\n",
                "text/plain": "<PIL.Image.Image image mode=RGB size=128x72 at 0x7F97562D3978>"
              }
            ],
            "_view_module": "@jupyter-widgets/output",
            "_model_module_version": "1.0.0",
            "_view_count": null,
            "_view_module_version": "1.0.0",
            "layout": "IPY_MODEL_b993c38b765241ca94e6703383687f96",
            "_model_module": "@jupyter-widgets/output"
          }
        },
        "7fd64ff38c7f4fb6a56c1f2541411a67": {
          "model_module": "@jupyter-widgets/controls",
          "model_name": "LabelModel",
          "state": {
            "_view_name": "LabelView",
            "style": "IPY_MODEL_4ac05ab10228468d800fb8d5865e2416",
            "_dom_classes": [],
            "description": "",
            "_model_name": "LabelModel",
            "placeholder": "​",
            "_view_module": "@jupyter-widgets/controls",
            "_model_module_version": "1.5.0",
            "value": "Prediction: teddy; Probability: 0.9311",
            "_view_count": null,
            "_view_module_version": "1.5.0",
            "description_tooltip": null,
            "_model_module": "@jupyter-widgets/controls",
            "layout": "IPY_MODEL_23fad0621d9f4c8a8694d406fec234c6"
          }
        },
        "75aa41294bb24c22b52fbb67e9191e22": {
          "model_module": "@jupyter-widgets/controls",
          "model_name": "DescriptionStyleModel",
          "state": {
            "_view_name": "StyleView",
            "_model_name": "DescriptionStyleModel",
            "description_width": "",
            "_view_module": "@jupyter-widgets/base",
            "_model_module_version": "1.5.0",
            "_view_count": null,
            "_view_module_version": "1.2.0",
            "_model_module": "@jupyter-widgets/controls"
          }
        },
        "23e7ce09104746d6bf595594e17d9bd1": {
          "model_module": "@jupyter-widgets/base",
          "model_name": "LayoutModel",
          "state": {
            "_view_name": "LayoutView",
            "grid_template_rows": null,
            "right": null,
            "justify_content": null,
            "_view_module": "@jupyter-widgets/base",
            "overflow": null,
            "_model_module_version": "1.2.0",
            "_view_count": null,
            "flex_flow": null,
            "width": null,
            "min_width": null,
            "border": null,
            "align_items": null,
            "bottom": null,
            "_model_module": "@jupyter-widgets/base",
            "top": null,
            "grid_column": null,
            "overflow_y": null,
            "overflow_x": null,
            "grid_auto_flow": null,
            "grid_area": null,
            "grid_template_columns": null,
            "flex": null,
            "_model_name": "LayoutModel",
            "justify_items": null,
            "grid_row": null,
            "max_height": null,
            "align_content": null,
            "visibility": null,
            "align_self": null,
            "height": null,
            "min_height": null,
            "padding": null,
            "grid_auto_rows": null,
            "grid_gap": null,
            "max_width": null,
            "order": null,
            "_view_module_version": "1.2.0",
            "grid_template_areas": null,
            "object_position": null,
            "object_fit": null,
            "grid_auto_columns": null,
            "margin": null,
            "display": null,
            "left": null
          }
        },
        "eee3e4a538e9472f89634a369c9a98ae": {
          "model_module": "@jupyter-widgets/controls",
          "model_name": "ButtonStyleModel",
          "state": {
            "_view_name": "StyleView",
            "_model_name": "ButtonStyleModel",
            "_view_module": "@jupyter-widgets/base",
            "_model_module_version": "1.5.0",
            "_view_count": null,
            "button_color": null,
            "font_weight": "",
            "_view_module_version": "1.2.0",
            "_model_module": "@jupyter-widgets/controls"
          }
        },
        "c31ca0fd35f04b04beb2ea55b9286893": {
          "model_module": "@jupyter-widgets/base",
          "model_name": "LayoutModel",
          "state": {
            "_view_name": "LayoutView",
            "grid_template_rows": null,
            "right": null,
            "justify_content": null,
            "_view_module": "@jupyter-widgets/base",
            "overflow": null,
            "_model_module_version": "1.2.0",
            "_view_count": null,
            "flex_flow": null,
            "width": null,
            "min_width": null,
            "border": null,
            "align_items": null,
            "bottom": null,
            "_model_module": "@jupyter-widgets/base",
            "top": null,
            "grid_column": null,
            "overflow_y": null,
            "overflow_x": null,
            "grid_auto_flow": null,
            "grid_area": null,
            "grid_template_columns": null,
            "flex": null,
            "_model_name": "LayoutModel",
            "justify_items": null,
            "grid_row": null,
            "max_height": null,
            "align_content": null,
            "visibility": null,
            "align_self": null,
            "height": null,
            "min_height": null,
            "padding": null,
            "grid_auto_rows": null,
            "grid_gap": null,
            "max_width": null,
            "order": null,
            "_view_module_version": "1.2.0",
            "grid_template_areas": null,
            "object_position": null,
            "object_fit": null,
            "grid_auto_columns": null,
            "margin": null,
            "display": null,
            "left": null
          }
        },
        "4ac05ab10228468d800fb8d5865e2416": {
          "model_module": "@jupyter-widgets/controls",
          "model_name": "DescriptionStyleModel",
          "state": {
            "_view_name": "StyleView",
            "_model_name": "DescriptionStyleModel",
            "description_width": "",
            "_view_module": "@jupyter-widgets/base",
            "_model_module_version": "1.5.0",
            "_view_count": null,
            "_view_module_version": "1.2.0",
            "_model_module": "@jupyter-widgets/controls"
          }
        },
        "23fad0621d9f4c8a8694d406fec234c6": {
          "model_module": "@jupyter-widgets/base",
          "model_name": "LayoutModel",
          "state": {
            "_view_name": "LayoutView",
            "grid_template_rows": null,
            "right": null,
            "justify_content": null,
            "_view_module": "@jupyter-widgets/base",
            "overflow": null,
            "_model_module_version": "1.2.0",
            "_view_count": null,
            "flex_flow": null,
            "width": null,
            "min_width": null,
            "border": null,
            "align_items": null,
            "bottom": null,
            "_model_module": "@jupyter-widgets/base",
            "top": null,
            "grid_column": null,
            "overflow_y": null,
            "overflow_x": null,
            "grid_auto_flow": null,
            "grid_area": null,
            "grid_template_columns": null,
            "flex": null,
            "_model_name": "LayoutModel",
            "justify_items": null,
            "grid_row": null,
            "max_height": null,
            "align_content": null,
            "visibility": null,
            "align_self": null,
            "height": null,
            "min_height": null,
            "padding": null,
            "grid_auto_rows": null,
            "grid_gap": null,
            "max_width": null,
            "order": null,
            "_view_module_version": "1.2.0",
            "grid_template_areas": null,
            "object_position": null,
            "object_fit": null,
            "grid_auto_columns": null,
            "margin": null,
            "display": null,
            "left": null
          }
        },
        "b993c38b765241ca94e6703383687f96": {
          "model_module": "@jupyter-widgets/base",
          "model_name": "LayoutModel",
          "state": {
            "_view_name": "LayoutView",
            "grid_template_rows": null,
            "right": null,
            "justify_content": null,
            "_view_module": "@jupyter-widgets/base",
            "overflow": null,
            "_model_module_version": "1.2.0",
            "_view_count": null,
            "flex_flow": null,
            "width": null,
            "min_width": null,
            "border": null,
            "align_items": null,
            "bottom": null,
            "_model_module": "@jupyter-widgets/base",
            "top": null,
            "grid_column": null,
            "overflow_y": null,
            "overflow_x": null,
            "grid_auto_flow": null,
            "grid_area": null,
            "grid_template_columns": null,
            "flex": null,
            "_model_name": "LayoutModel",
            "justify_items": null,
            "grid_row": null,
            "max_height": null,
            "align_content": null,
            "visibility": null,
            "align_self": null,
            "height": null,
            "min_height": null,
            "padding": null,
            "grid_auto_rows": null,
            "grid_gap": null,
            "max_width": null,
            "order": null,
            "_view_module_version": "1.2.0",
            "grid_template_areas": null,
            "object_position": null,
            "object_fit": null,
            "grid_auto_columns": null,
            "margin": null,
            "display": null,
            "left": null
          }
        }
      }
    }
  },
  "cells": [
    {
      "cell_type": "markdown",
      "metadata": {
        "id": "view-in-github",
        "colab_type": "text"
      },
      "source": [
        "<a href=\"https://colab.research.google.com/github/obfrap/fast_ai/blob/master/bears.ipynb\" target=\"_parent\"><img src=\"https://colab.research.google.com/assets/colab-badge.svg\" alt=\"Open In Colab\"/></a>"
      ]
    },
    {
      "cell_type": "code",
      "metadata": {
        "id": "YyMcdGnGLzJW"
      },
      "source": [
        "from fastbook import *\n",
        "from fastai.vision.widgets import *"
      ],
      "execution_count": 1,
      "outputs": []
    },
    {
      "cell_type": "code",
      "metadata": {
        "id": "6fGnAxXSmWmj",
        "outputId": "60b80cb3-38b7-4f07-9204-0fa60f5a3b62",
        "colab": {
          "base_uri": "https://localhost:8080/",
          "height": 34
        }
      },
      "source": [
        "cd gdrive/\"My Drive\"/"
      ],
      "execution_count": 3,
      "outputs": [
        {
          "output_type": "stream",
          "text": [
            "/content/gdrive/My Drive\n"
          ],
          "name": "stdout"
        }
      ]
    },
    {
      "cell_type": "code",
      "metadata": {
        "id": "zWHvsFHtl7OR"
      },
      "source": [
        "path = Path()\n",
        "learn_inf = load_learner(path/'export.pkl', cpu=True)\n",
        "btn_upload = widgets.FileUpload()\n",
        "out_pl = widgets.Output()\n",
        "lbl_pred = widgets.Label()"
      ],
      "execution_count": 4,
      "outputs": []
    },
    {
      "cell_type": "code",
      "metadata": {
        "id": "6-yd5LRIgEPY"
      },
      "source": [
        "def on_data_change(change):\n",
        "    lbl_pred.value = ''\n",
        "    img = PILImage.create(btn_upload.data[-1])\n",
        "    out_pl.clear_output()\n",
        "    with out_pl: display(img.to_thumb(128,128))\n",
        "    pred,pred_idx,probs = learn_inf.predict(img)\n",
        "    lbl_pred.value = f'Prediction: {pred}; Probability: {probs[pred_idx]:.04f}'"
      ],
      "execution_count": 7,
      "outputs": []
    },
    {
      "cell_type": "code",
      "metadata": {
        "id": "9N9VISRUmAGu"
      },
      "source": [
        "btn_upload.observe(on_data_change, names=['data'])"
      ],
      "execution_count": 8,
      "outputs": []
    },
    {
      "cell_type": "code",
      "metadata": {
        "id": "DuKeT11gmMa0",
        "outputId": "f1bd4ebd-b82d-4155-8d13-c193a0f50d77",
        "colab": {
          "base_uri": "https://localhost:8080/",
          "height": 185,
          "referenced_widgets": [
            "81446e5ad72d430b9fe8edd0e5b6d6fb",
            "e26d3e59d8e54b7db01ee31c173da52c",
            "af9c01b893944492a9bdcfacf2ebcf02",
            "ed8d4e2ce30e4e8088362e528c86f5ad",
            "75fb00e67b9f427485a85c83dad74fee",
            "7fd64ff38c7f4fb6a56c1f2541411a67",
            "75aa41294bb24c22b52fbb67e9191e22",
            "23e7ce09104746d6bf595594e17d9bd1",
            "eee3e4a538e9472f89634a369c9a98ae",
            "c31ca0fd35f04b04beb2ea55b9286893",
            "4ac05ab10228468d800fb8d5865e2416",
            "23fad0621d9f4c8a8694d406fec234c6",
            "b993c38b765241ca94e6703383687f96"
          ]
        }
      },
      "source": [
        "display(VBox([widgets.Label('Select your bear!'), btn_upload, out_pl, lbl_pred]))"
      ],
      "execution_count": 9,
      "outputs": [
        {
          "output_type": "display_data",
          "data": {
            "application/vnd.jupyter.widget-view+json": {
              "model_id": "81446e5ad72d430b9fe8edd0e5b6d6fb",
              "version_minor": 0,
              "version_major": 2
            },
            "text/plain": [
              "VBox(children=(Label(value='Select your bear!'), FileUpload(value={}, description='Upload'), Output(), Label(v…"
            ]
          },
          "metadata": {
            "tags": []
          }
        },
        {
          "output_type": "display_data",
          "data": {
            "text/html": [
              ""
            ],
            "text/plain": [
              "<IPython.core.display.HTML object>"
            ]
          },
          "metadata": {
            "tags": []
          }
        }
      ]
    }
  ]
}