{
  "nbformat": 4,
  "nbformat_minor": 0,
  "metadata": {
    "colab": {
      "name": "bears.ipynb",
      "provenance": [],
      "authorship_tag": "ABX9TyPvoislqlLYbZorXqlyFj9u",
      "include_colab_link": true
    },
    "kernelspec": {
      "name": "python3",
      "display_name": "Python 3"
    },
    "accelerator": "GPU",
    "widgets": {
      "application/vnd.jupyter.widget-state+json": {
        "3ba81f3418ef486db070378eb307372f": {
          "model_module": "@jupyter-widgets/controls",
          "model_name": "VBoxModel",
          "state": {
            "_view_name": "VBoxView",
            "_dom_classes": [],
            "_model_name": "VBoxModel",
            "_view_module": "@jupyter-widgets/controls",
            "_model_module_version": "1.5.0",
            "_view_count": null,
            "_view_module_version": "1.5.0",
            "box_style": "",
            "layout": "IPY_MODEL_efca9c7e2f854c0bb803b8ef043903c6",
            "_model_module": "@jupyter-widgets/controls",
            "children": [
              "IPY_MODEL_b74b94770a0348e393dd7193b6469976",
              "IPY_MODEL_382c4c8d562343348509d79c239b77b4",
              "IPY_MODEL_99c48e07d5904a9093e0de07fb63595d",
              "IPY_MODEL_03161643a17b4e4da007356981e80e3c"
            ]
          }
        },
        "efca9c7e2f854c0bb803b8ef043903c6": {
          "model_module": "@jupyter-widgets/base",
          "model_name": "LayoutModel",
          "state": {
            "_view_name": "LayoutView",
            "grid_template_rows": null,
            "right": null,
            "justify_content": null,
            "_view_module": "@jupyter-widgets/base",
            "overflow": null,
            "_model_module_version": "1.2.0",
            "_view_count": null,
            "flex_flow": null,
            "width": null,
            "min_width": null,
            "border": null,
            "align_items": null,
            "bottom": null,
            "_model_module": "@jupyter-widgets/base",
            "top": null,
            "grid_column": null,
            "overflow_y": null,
            "overflow_x": null,
            "grid_auto_flow": null,
            "grid_area": null,
            "grid_template_columns": null,
            "flex": null,
            "_model_name": "LayoutModel",
            "justify_items": null,
            "grid_row": null,
            "max_height": null,
            "align_content": null,
            "visibility": null,
            "align_self": null,
            "height": null,
            "min_height": null,
            "padding": null,
            "grid_auto_rows": null,
            "grid_gap": null,
            "max_width": null,
            "order": null,
            "_view_module_version": "1.2.0",
            "grid_template_areas": null,
            "object_position": null,
            "object_fit": null,
            "grid_auto_columns": null,
            "margin": null,
            "display": null,
            "left": null
          }
        },
        "b74b94770a0348e393dd7193b6469976": {
          "model_module": "@jupyter-widgets/controls",
          "model_name": "LabelModel",
          "state": {
            "_view_name": "LabelView",
            "style": "IPY_MODEL_1c9e498d0bc64b81946531f61587ee87",
            "_dom_classes": [],
            "description": "",
            "_model_name": "LabelModel",
            "placeholder": "​",
            "_view_module": "@jupyter-widgets/controls",
            "_model_module_version": "1.5.0",
            "value": "Select your bear!",
            "_view_count": null,
            "_view_module_version": "1.5.0",
            "description_tooltip": null,
            "_model_module": "@jupyter-widgets/controls",
            "layout": "IPY_MODEL_c9129338a83d421783e3c3a9dd60ad9e"
          }
        },
        "382c4c8d562343348509d79c239b77b4": {
          "model_module": "@jupyter-widgets/controls",
          "model_name": "FileUploadModel",
          "state": {
            "_view_name": "FileUploadView",
            "_counter": 1,
            "style": "IPY_MODEL_f504ebf81d914f3683d18a1b8924a8ac",
            "_dom_classes": [],
            "description": "Upload",
            "multiple": false,
            "_model_name": "FileUploadModel",
            "data": [
              null
            ],
            "button_style": "",
            "_view_module": "@jupyter-widgets/controls",
            "_model_module_version": "1.5.0",
            "accept": "",
            "_view_count": null,
            "disabled": false,
            "_view_module_version": "1.5.0",
            "error": "",
            "description_tooltip": null,
            "metadata": [
              {
                "name": "claudia_flores.jpg",
                "type": "image/jpeg",
                "size": 30416,
                "lastModified": 1601145082972
              }
            ],
            "_model_module": "@jupyter-widgets/controls",
            "layout": "IPY_MODEL_cdd90d9db9d84d9db90d92ac75f4eb18",
            "icon": "upload"
          }
        },
        "99c48e07d5904a9093e0de07fb63595d": {
          "model_module": "@jupyter-widgets/output",
          "model_name": "OutputModel",
          "state": {
            "_view_name": "OutputView",
            "msg_id": "",
            "_dom_classes": [],
            "_model_name": "OutputModel",
            "outputs": [
              {
                "output_type": "display_data",
                "metadata": {
                  "tags": []
                },
                "image/png": "iVBORw0KGgoAAAANSUhEUgAAAIAAAACACAIAAABMXPacAACAvklEQVR4nHT9abBkSXYeiJ1z3P2usb94+8s9s/aqrt670QAIECQoyoZDaShqZKSRoxnZSLQxk5nG9Etm0k+ZyfRHMpmGEm2GkmizacQBCS4giAYIEI1eq7r2zKzc8+Xbl9gj7uru5+hHvJdVDYI3b4bFi3wRea/7Wb7zfcc9sCj+D9PppNlslqWdz4pmoxdFiWevNTrmoqybza6wAdKLYspcR6FWAMielAWgovSV9URBo9Wuypn1Lgij88EkClvNZi+bTVqNtK6tVjowxpgASQtrAPHeZsUsTLSIHR6d1E6m88Urr70hKKPJ6PHzJypIDo8P1jea6yvNrdWtIAjyqlosFqPhqN1stuOkLOera73Z3Ge5JGk7LxaD4XGrrdfX1p7uPqg4T9ore4eTbNpvRW+XLs2cT4Lg+vp8tT9qN6Lj/fMfvffg/buPkDBqBGNri6pud3o7G5vb/dW9J0+EyzAJy8p95xtvTI7PtIep1f/q3oNCaKfVvX31Shaa//Yf/ePbG6v/u//Nf3L3ow/+8E9+Amm/FEgTOp8MYuO1c0paoruNle7e4/2v7Ny8EgW79+56wdJB5XwQpXo+L+bzstHsVlWpVIik54s5EjSaCZEyQZAXeWgSAjAKWWkUREBF2nsxYWSCGohNGCFJFIURhFXtFagqr2aTo1aziSqOkpgQlVJFVZLGqqyUUov52PlShw1F0u51syyfZfPpfJgXi+FoYF11cHwahVEjbEQYn+6dr6z0dWB8gcXcd9Ok2diKwvz0/CSMkjg1ZT2bz2YINJ9mzaTsd9fjVrCo3GJ6rIAQ0WiDXrRR29sbaQzj4floOh8uZivbmzqgKFIyncZOkkZ7OJuXZeUA3n37K6j47PRgMB6lzcTlVZIkrUZy8Gz/Wq/v2N/77FHp/dOzwX/9T/6Z9nXS6+SCe8/24iBY63e+9vpNKIs/+MMfz91pPGgW42LR7rHuEpJjFBAEFBD99OlBp91hF6TJSpaVWkXjYsxik2bDCwOSdU4rx97O5+NGKy1Lq0Q106aD1NZQVQIKa1f7Om9FcV3X88mi31t9+mR/c+Nqo93zws46pWA6GiKK0sY6juPQAQMBgjdah+1mmEQOPGA9W5wPx4f99avs8fTwPEsbr6zffHF4UBGsXl2N+p1ec7vZbGsKCVOARV5VWTWsyzqkuNtqRUnabqeA0WByOpnm2+sbs1kCLAJgtFGERsN8NgPARqcDUTCYjbLJYmut++1vf/3x7v7zg9NFVimgRpxQkn5+/9PT4z0Ue3Vnq9fpPH5yvH86bHb7z45OPrn3IEeisFWgfPzksJdGcRKfjWYmiuZZ1pyZYjCys2ErhEY/Tdrd89p1mqH4mhCRDLJDYqWUDkyaJJ26QgBE0PN5Pl8sBP1oPInihtKBCXQYR7PpuLKVm1phbsZNL1jXpDQABotsFqeBZ19bsQ6CIFJE169db6Vd0FFWFkVVaoNW6vls6plb7Q56xhCTKBGQvMhUEFdVZb31tvJiV9dXlNKdRrtxtRUiFRMrVdhv7mhIoZ5pBGCa55kxqijc+fTUpBhFptfttpNG7c/zcpwX88HohEyr1WxnCxSPIBiGQRDAaHz20fv/Oo7iEqgSOy0WlStVoLNsfnh8MF2URe3bzc40z3/7d7/fbcQqSPLF9PNn+9du0I8fPjs+L9qdVVcVjSS5tnOt3N1z7JVqzDI+Ph2cDQbbVzZ6ff367dvDwyc31pr/4d/+qw+Pz3aPsnIY9JoxTjJCEEQRIUQi0m+89U5ducUi73ZXhP354BSJrPNF6bNi0eutOOeLckLEYRpXdcHgs3oRJ804XmFwJoo9ynwxabYayiQe6iQkRI3kaleIeCJupPrT+58U1Xx1vV8Uc5zlhY3DKMorRlstZrOV/mYQhp3uinWlCUwQqdPjOXjeXt3MpvM853Z3w0NYVaJNUNZFUY3qup6M88HxUc4FMGVlSaCNknkxQqEnTx4qQ1eu73hOA6Nqi4o0M2iFYUibm70iL5493zsf5u1WE1WzlTYX0/lKZ8XJ3I9ndVHki1y8u3X92vZqf3f3qSN8fHB+lpU5S3F63us0i6p88uDBq9d2et32i71TQeq1uq/cujOejyzmh+eDtWbzr/y1f+/k9Ojs/Q/vfnbQNmkxn0QAzBbQAKKwiIhmFkRqNDplaUVcv7/a6EVlWT9/dliUztYQRpGg0wZUCBSoyXBcZoswanTSdUKsbB5FyTxfVDWnUZgkKXNNCMYEi1nGWAaRmc7OO+2gZ1Zm2WixGPc6V3cPn65tbdvaKc95togbJWmjFOWFNSpGgTRu3v/w0zu/+lozahkTLRYynZcWtIrKMJK8nKBihCwOaDSuxtNCtD/Y38N3XhsOTzfXt9bWrxZV8fjxvrWJMVcR0DsPpIwyztX9lSattla3t3+1vfPe/aePHz3ef77XarTGWR4lrWvbO9PxZHR6GkTJxx/fP+22m81GLjzNnEeOQx0HWrms04i67db3Xt/e33tiivNxbq/dehVsngamwHbu/LPx8Ld/94/K6WT/8ZFGbKZpIwphsUD0QIwEyKhI6byYCOs4biA560qGMNRx5hxR+Nprb4Rxoo3WRg6Pn9c1t9qt4uhob29va22nl+Z5WXqR6XTGCKBxf//56so6KcXCOsDz7FRz1XDJ8cF+Z6UXN6Kimnzl3TfZQTwdPHn6oBE11zr9NEoHg2FR1FHcCEw0mZftVrsdqe3VbSK1tr4+GM/Snmk1EqKKoc6rPAxBqcAWjiUMkg5KKEry+mRaV5Uz86xgX3oHr9x6Z29vPp8iqKoGrySwnI0XE+3rAHF7a+vzw+Pdhx+vN1ZOxlTV9vTktN+Xnc0rj14cspUbd7ZHkyn2WoeTOTByCTutTpo2N1fWfV3uPv+8t93v9JOV1muv3bn96ODYhY3BpBqfLgrm1kq6qO3dp3vffecdxmR2//ONXitA55wXICWEAKRIkdaLxazdXGP2zuciPs9cnLRCE3c63UW2mGWLOImsL45PT8bT8ebmWhAkN2+8SqQX+QiVzstylk0d2MOzmVRlVo0baZuIwphG44O1TqMo6/WNnmXJ8zmgL8uiKCwiCbMJTBzF4EEnhKiLoiwLjsI0zzhM4u5qf7YYJ824qOZBGJsgIcDKsgKFlFSFm87KEuqzyeDz3QMdhvnipComv/lr353Pzmfzc2ep08utz0Eiz9aD10oRSl7k6IqVduPx40f3n7yIFd+5srnTXfnk8ZNIYb+Rbvd6AXLca+1sb4ui3NULW7qsWuuvNBrJaDyZDc7feestsuV0Ovjd3/+Dr7x6+5U7d9a9vbt7XDvjXLW63q2xdlwPRvmTZ49u374ZPiJfFZHRc0EQRQoRgBAVKi2inOP5fDKanGxtbQrrw4OTra0r/Z759N6nSasRpxsHR7tFlc1m02y+eOv1N7sbW66urXjx/mx0OlnMPPgwDgqcK+/zyYydI5GtzdVAGWFaX9ucLuaLYtZQzbKsJtNsOJzGYaPdXKlrFgEV6ywrFARpFCRhgyg4nZ5UVHUaDR0xUBmGMfvc+5KlVqSqymWz6snz3dPy/NGL/bNRsbV1dWv9iqFyPBww181W9/RsfHB8WPkQCImIAIhAQMbjSb8bh1EjtaqVRJ1Ob7WTZAwNhBvr65OTk6GJNnrNpN8ry0W2mDpg5Oob33z7+ZOn4+EcPNRFNZ0Mg0BN9ydJGkAYvvfhp/Pa1hZHw6mr8l5rZbRgV1bNbisv5uPpUScN/+Kv/1p5OpmezATQswcRQiIArVVEpJMk3d2bA+DWxk1gOj8715G+cnXr2Ytn09l5LbbVbhq9RaJWuhuBiigCpeusyE7Pj9NmapTprfTq87kJkzKrbOmqPG8mjd6VLaLAOZ3EnZOzYVGVjWaSFzWwunrtTre9MhlPnbXeYaPRYgtZlgeqWRZl5rO8nEcZ9PtN0lxWmQ5KourBo3v91dVua01Qraxvnx6X3/ml3zg8nMwm5Ss37qytRFzNeyut0WQ4HpWE3rNNDASxJm2Q0HprnW20u+PZfHh2zrYU5lasVzZXu51fee+jjyeHJ/no/NbmqovU508ejSbj/vrqtc21xWRAYKf5jAVX+v3j0fFoNFCNOGm18hLPThfn48m4tIFpoHW9IJgWY87qqBes97qLyfzKem82GviF9Q6dZ9TIbAEkMFqHQRoECaLf2tqOwrjZ6DYbvcdPHmbj+dpGf6XXPjk7vfP6q+eD0Vq/LxZtLc1OE0mm88MojrY2NwajoSAeH5w4Mafj2fbG1qwYv/7qndWVFWuhroW0K6scQGsVx0l7bT30dnh2PAPfODmdxHGEwlo7Y4LJfD4YZoeHZ2tbYTMx4/EIrl3P8rLdaFvwyqio3V3UqEqzqBNldmbD09PD0aOH+6fHsx99/0GgvTD313pllUdJstZba7d6W5uBMsYBKi9hGEZrq1U9s84pjYHBKzevTmajmxu3bt26dnx8klCw2uudjI5tIIuzk41+d3ulk7bauy/2QhFS4Lw7PN2P0jRqp4s8Ox2Me2GvlbbPTsa9uBmaKIjCV9e2T14cbDSChuLBwfH29hqI/fC9n+10r7Og9VxlizyvtYnKqtKtVodQCdid7R0ANRnNlVJJEs7zYRgqEVfk+cH+oYmSQEcsMBqMo7CtDSnURplQG7Z+dW19OJyOzyfMPo/z61eupWkym82msyyIwiQJT88Oa1dpo4oin0/rld7W3ouzo3oYJk2lzPjkdKXfOTw9jJJmXuUr6ytrKxH48trOpiIzn5etxJDuZFU+L9o/+pMPdp/+aHDmJpM8K7OqdgiJpjaz9y6rHR8czoNIa1ycJpyG47Mb8u53tnRqSGkWVihZka32Wq1I7Vzfmpf1+x9+1m2sra3TG6+/2f1m5/D581fvXHt08Ph//Jd/9erV6598cu/06DhkMGS2+quzfDGezVxZVEWRNBqVcraarTa73/vWu412+4//6I9Wuyvl2enf/Ku/MZoejw5ODITd7ooy/vPZU/HsHJPSvsqdeEVARmmiAADqurTWKoRWszMcHgYGX33llbzKoyDRpA9eHG5sXclVsb97lGeVUsHWxorNSkcgjptJ0mm20rgBnhbzWRQY72qQ4N69T1Wotq/sPNvbbbaS1ZXOdLQYD6eHp2OC8Y0bb4qYo5PT0+PB7e2N1fX+2fAclGKjwyjN80W1GH/ltdsE3ta+cOHPfvz4n//Lf/n8yWFdkoIGu0BjFGCgQ6gtOIdegCUQEO8qVwJpJY4s8P7B2drRYPN6L3QwGc/mk/1erx6cHLx256azeP+zhyJyNjzpdjb29w9py7z51jtZNnBSBKdHTz//fPfZblbz1atXX3/t1Ye7D59m5zrBvOLtazcHo7nj+q3Xb75x4/XFbPD5w7vbK81sPAdXfPPtV3b37LyBt2+8PhwtGq302vr1D3/6aD6dEWEjTXQoRGEcRbp0rq4LQtY6RiatVL/fq1xeVhV7bDU7N67fPDkf9dorgHjt2s2D3aPx4HRtJUyTKI7CG9euHp0cPXv6KAjClW57pZt0us3FfOw93r5z1Sv38PH94Wh848bVwFA+K61HkKqyViR/+uzg6PCUnX/n9rUg0Ovr6+NFNp3OyCStKBotyslo3utqy+q/+oe/+8+//8fWSxr1EUJBRYEA+7qs6trVznv2latY/BJfoSiu2QaoMRDnp5NpOl1oY65fuzqffLS3+6LRUIwmNMlGf9t2coZyb+/5q6+8oin66c9//vTJ3du3tm1ezKbz/uZOfTZ69PipEt9dia6vtQXlzXfedRL897/9/e994ysbnc5apzs5fvSXf/Wbjx+O/8Xv/LS7sv7xex/N5wff/Na7zNXp2Yu8bN+8+sbuo7ODF0MiZGASDHUQ6EAX1ZwIK1urkKIoyvOFdXntSi9SOS9EOm7sXO/qIHz04GFAyZUbN7c2VxaL08JWGEIcBP1+L4nDurbno/Ot7c1WKwVcaOO2eq35omjFyfqdfqMVv3j+RPkUyLTSMIqasfErbbXS2ZnPFotsuignViyCS0Ldaybz8aDb3izr+O7Ds7/7n/93D58WYdyOAuUtEgiRZNlMnDOoQMigMdoowLIupuWCnbNGJ2FQ25oIeZG9/97PVw+G3/3e93Y21jfX7xzYgVLlw0dP4yg5Px+mabB6ZedKf2s2HZ6fTgCxtO7gdDjNxkJ6eD4ejaZpHI2nc+/mb735ujK0vrLy9Nn+Rqxe2d5qNzqjs6M7N2+t9tofjV6s9/qjQbFYjLd3mufnk267bcvqxdnTfFBnsxkBIJLz4kWQiAH00+ePWs1Ws9Esi6rf1aQwDJLJ+SIrSiF1dHZa1W5lbd36+WA8bScmbXWiuLF3+KTR1qhRQMLAECe1slWrdXR4fHwoK/1Oq9FBcGmUbK6uexRnqySKQ9UACONGs9dd7bZX0iCZL+Z3rt/IZkXaTJ69eJYE4dhViVbDWXntzluLIvy//d3/4snzqQk3XK0UYmhC8Vxmc/BOEQoiKcVerC2FXRxoy5jlFfuaFAnzIsssOzRuOn84Hk58+Y3tHe51drJivyizspoaEzx/sXd1Z+fgYPfZk73NzeuDwTRqthwZ0YmD8nw0CcJoc3u7KhabG6uLWX73/v3A0Pbmxi9/9Z1yMd/b23v0+dO/9Bd+2QTBZL6YzWa9fKXd6wzG073DFxplZ3O70+7c/eSzCPvifW2dJ8XiRYSZ9fnwfDafra5srPRWj05OwyBodTuO9f7hYDRb5LULoqSUUVnMFlm1udrsdVfH40GRVybmvCyfPTu4ef2aLatsnnc66w/v79VVvbNxCyWpynlVla1GN68qrfUbb2zNRmUz3dBBc293v9vYToOeU1TNbVkWj58+bLbSXreXpcVKqzkIEoD07/+//uH+fhZH/bpC8kiIVbUQa0OtwjBgFE/orWXv0JXgKlJwtdmUpFGVlVJarK9crXQYEBV1dfLi2T/5rb1/93/0rRu3gp3tq0+f3Rucn7davdWVzYefP/nqa+/cvnlzOs0++ezT3EHl+fadmwcnA0Ddardf7B+OBsNeJy2KOcZNISkcXu30vv9Hf2gRr17b+Hz3UVa43LpGu+F9XdZWxebWa2+/eP5sXvE3v/ZV8s37Hz5j9oiitHJeGNA6r5vtljAZE2kdlmBr62fT8nwwM2Frns+muS3PhzdvXTFB1O+HdeU1Ga5leDYyUauMoqKozgcjb10YRKPhHCRAxiTqVkXpHNalhHGzmlWMMBjNA2pGSXswmJ2ejq5dwUbSC01aFJmgX+l2s2xBHm5fvyGVE8Z/+N//0/v3XyA1beWUc1orb2txdRLoVhIpxLounbXiGcQLSqPT7Pc6zTDxtcuKclZWFWHOzkPo2SnnNPPx3v73/8Xob/4Hf06gzLM8TRrNqOE9A/t8UffanW53VXT8hz/9ebaoTobTR09fxGmjqM+ms1kUBJ8+eubAB0lcVdUt06qeHzU7q9/42hvzfCiePvrgUztTq92V0k5Hk+LZ5y+OJ9sEcDyce9Bv3Xzz/icvWLygeLGAiERKB3o4Om+mPVIGUIdhcnpysrHdbrVXBnuHjUb3ZHAQJa0ic3HkmkncjBP23O10Ws2Wt5wtCkXGe57O50niO831KAhvXbutyFT5DMg3W11tkpPPHwjaKInSKJhOnjWT9s6VnSiOIpMEJrS1zbJ8Y23T2nI2W7DTVSnM+ic/+Tlin62glzQICYjiSKcRs83mk2q+CBHaadJqtkLSSWC2NtdWOm3yNJstpovF2Ww+cpWruaisdx7Zh1qZdrq/e/Tg3rPvfO9mEkVpnEZB++ToJFC0t3c0iIaC2NnYvnrj+vzh06fPn62vr4lgmjZcVVvnKYjrujw7mwCpcDgb6qynJDYqXel99vGDWEXe25PDw7Wr7Y3t9Vzbu4+fr/T6kQmf7J/YXKsgsn4KAsgKBBBAa6XD0J+fn9QlXdmBG1eus9MffXxfiNrd/mx2qoUaQbzeW08bvpFwscjPzo+21vuLbJHXkmWVc0VRFoguinXSCNBQq9sL4waZynlrnUctb7x568nTx8PBINpp9Xq92SjLivp8PFjvbyllmu3uK8mrrq6Ay/Ve5/nu6d7z4e/98ceKYl95spKGCTCx98C+ZDvNxlxna8pc661sbKy2m+00TJIg2lhdbzZa4nzWzgeziaZjNxuW1pfOivXM3lon4FJq/vhfPdzcWrn91pX+6sqLJ+fKAJLt9DevbO882N391x++9/TFkStsrxu9fvuVALWtXCfQKoy6W1s/+/AjqDJjqNtoGYLDF89nedltR+trm3USfHr+vPTylbe/dv3tmx//f/+byofzCpN2a+/F6eTI7nQ2hA060cqweAIxCnRo1Gq/s5hXLHz34YNOe70SUYhefKeXqiPfbNBbb9xaZGdZPnpxcDCf+fPROYbp4yePG2lU1fPt7dW19V7SaJ8PB81Oo91tjWej2s6rei4AMBubgLRBEGZvT85OfAnn43HSTOI4DHVoq1IrTpKYvYiomzev/8kPPtl78kK4ASxJEgFAVhTWs2Ln87mBeqvXe3Nz89bGRq/TjuI4jpLAhO1mWwcBi+qtSDfvmyQ2J3FzPnkBw+PhCLwDEvHsxE+m+WefPeKg9+Lw6N5nj9bXeo2GsWfPQFsn9fngbHg+urqx8+atawHpfD4X4dDw1Zvr+2eDbDLsxCESSVFOFnN2MpnU83n++P7T9c51Emyk0auv3TLNEKRklzeT1XI+6babsZi6rhAFQAQ8oCCS96KvX7muqfvTn9wHUcdnwx+9d08ZE8XB+Wi40uu+8/Yrz589++zuT9udaDqbtDuNJ7sP9k+SXm+l3Vsbj84RIUqaAnR6dm5dJawm2fnz588X+WR1tbXe39h9vmttnRdlf2W7maxU6JyG6vRkkc9m2cgQHe4frK304jDqtBLPolUwm81DHbOLQAXWVkVZ1hY8EhdZw1VXV5pfuXntnStXN3pdMBBFaRCnQRiZMCQygKGzTgf6ht5pNJuDyaSVntqqOpyMKud1oL0VJHN+utjfBZP63no/XWkgWQSpuTgdnMRxcOPazlprda3Zubq1fe/up05s78amhSyfnDc0vP3mK8+e7gbO5VkhlZQFPn78RCxoN2fPQUhPdx9//oMHVZmtrrTrxWxzrR86MzwaebDWeyEUsezRewYAvda/tvdsUMxdtfDnJ9O6AqlqX3OShnVZ72xtZvPpaHSK1BkOpuPJMG02EWk4nvi6brQaAPbs/Ny7JqKfzUevv/HGYHzMVA3Hp7Wfj0eL0fl8dXUtjdsbq7fTuDWsx1pDWfnRZJKkUV0Wk/nQexuoYDDQcZJ8/vlnDx8fA0Se0bmqcuU8mysVsYC2+dVO+xu3rr9yZWur1263Uk60NqEKImVC0FpQKSESNKJbzUZggpVWu9VqFnm+qMsym4tAEARCfH4yW99sRt73VlIRNCYhXwVBYIy+dnX7+HDo6qzdSubTMVs3mY1SSGqs71y/Qtb90rtv/cVvfwuE/vk/+93BeB4pDQ4Xs8qwF1FlWT59/myezxUSV77XbAaCk7Nz8DiZT4ENg7LeiRgQCEyoHz84qeaEVdTQPSgVOv3m668dHx9MBsPJYCyON7c3Bw9G9z7bv3bl1mqvORqdOicEUV5mRnUbSWN0djY5mxtF61srD+/vBZEOQ5Mk7ShKz8/HadIscnvt6rVue308nBLGaPRiUbe6NM+Kw4Pd0Oi00cEgnGSFqMaPf3J/PleLir33zvqqzkkBKXTT2YqhN7fX37yy1Ws3wlCjUcYEQRiRiQQ1qUCEREQQgMAYjYKB1sL+9pWdvdH51FWFc9azdZaBpmeVrcpTdbq2szZf1K1A5UFpUAeRFqhMFEyL4f7zA5v7xSIfZ7PeeqfibKPbTUBWYlMW1dXV9lffeIVCs9ZpaIh7rdXTw+NOu+M9VpV891u//OEH9yZn4yvdtd5O6/HD3cFgbFSqgiArMq1TYXNKJ5pdOJ8UNseI0q+8/u7PP707Ph66hSWnlKb93ePZLC9ynIzo5s5qng3Gg7rdXPVOxWGn01rnulbSVCDNKD3Zn0eJDiKWJrKEVUbCXNULFdLx8T4K7b/Yv3r1VYCw01m/cePV+fwsz0sfmo8++2xn87pG8/DR8aOnJ7MFlJ7Zs3e2dlUcmrosY5TXd7beuXljq9cJ4iCIkyhNojghZZACIANoBMETIwIR+SXzJRAp6jUb3VbTH+4758AzILlKRifTXqe72upOTqaz+XylEcUQr6+vuUjVVypf1vN66pXvra/UnjXKan8HLed2MhsOOZu9cueV3/zzv1rVdWFLpfFn7z/d3zsMlQmC+P7nj9/99jvbW1fe+8ldZJUE6fbq+sHzsygoo6jFAF44DNJWq91qtnSz2Tl+MWaBk/3B3sFui7Sb5ovzSW9t1ROeTYYH8wlbbgSt54/25ouF8xHnM0Lb7qaLSTaeTDutlnL+/GhCQbDeX8+KkTNwfjaIk7jdaTSbSRzHhBTGbutKK4j5+dMTXwXZomx1kuvXrw7P5m+8cvXR/af97s69j3Zn07p2wJ7Ye+tKHQeeWcpsq929tbW11mmkkTaNUCdxEMUmjBgAUEiBsENBA8KknZIaRAKpa6+DoNloxtpowCK3EMYaUQHP52WVCRcm1Y1a2WbcNxwUeb17ejLPZr0ovb51RWnDlUyKkTHN4aj86pvX3n71l21eiHWlrSgipbQhvLrVGl3pR1yfDafj6aTVCF+9uf35/Y+fv3j25vUr/Ua49+wIndnsbeWlrdiGSajRKGUazZb+4L1Pp4O839568/V31ta29g+fN5P0+fPdt7/6VUfy8d3PPn/80NXe2qrkWhiacbK51tYkoDU4HYGc7097zWY7WrXO735+qIyYiJrtjcU0K+f5Kc7SRnz16k6V+/X+Rl5KqxOfj8ho5W0+HA43N66/9sobATb2dwcnJyNbOe/BewLPhjSRKufzBMxGr7+5vtFsdcIkoDDSJlEqYO9ZPCCCMIISxpJJED2joNGBYlEKqO3itW6HPNe1K1wZh4EiCkXPp/XgeBolstbtf+ur3zx48XT/xeHu8CCMQjR+H/ayWRGo5MaVW7svXrCbmQif7T/not5c3zg4Otw/Pqy9f+vt2ypwX/vmK3E8Of7B2a3rN27cavZ6bf84e/31rRubm0rbZjO4eXNn79lxXjhEQCAiDUAgqIfHmasg6rfDqNtfCYMgbSaRr8mW7rP790pbX1m7OpvPp5NpZILZdNJprm+mPe9qT2HNYpEKX5ENAh1FSmbzqWhc7+4EOnQwd7YcDE7CzWh4mE9O55PVaWd1ZTgaB4Hqttvj6aQZN/vd1aePXogz77/36WAwZVbCnggRyJhwkS2wks3u2rX1rSQMz4eTwRSCZhrFNtJhp2GMIRRWSgEo66TylJX2ZDBezAtgEO+CgLur/TtXdza7neN5Ma29x7qqbFFgIwn/0m98TVNxcrJ7+HwvK8pW2n2j2To7PetGzXpSbXZ3To8mq2vdTuM0Cqv5Ynq0d/TqzZtkzKzIXhwfNTuteTXfWEuBZV6cC9mNjdXX3tgcTw/XVpOV9dt3rtzITs/fevOtTz96sL9rkTwCgVyczKDXVq4f7J/ESQ8oNIFeWUnFls7hi92DbJ5vbu2EcXL33j3lsb/Sq6eLZhBrC+RJBxhFYVVWGiAOgyDQIak4DHQQNONW7WwSRONx3Wts5ZMCXBnFeJgP5ou6YpyP7Kcf3E9SK44Onh41G/1nj5+92D0RCQAQRLRCY4ytPVhJldlud9ra7D196m1VI0zKyluMkK5udN5+/fb2Zl+HgQgtJvP7nz98vLs/WhRAut1or3Z7KlTD8WDrxs23b9+6u39MhA5Ekc5Kd36aHe2NA57ZujrZPZq5AgKK4riNnTevv7XRb5NE6Vc6ebVIG/Tg2YdHB6enx6NUN6qcz89nWeZI1Q8fPLP1aqep8rI0QTCaDWqfDIaHaULb129qT3vjs2Y8n8/nLJ6UEKOweOYoioiUjsOOtWeTRfn9P/wBCIRGG3LC9vqNG4LcajbTtPNrv/xrz549GY9HBLC9tbXW6Xpbz4tsVpeILOBRI2pCTRio2jsAMQQ61CN2WZYHoYrDlFBsWc1GlaikFa7Nz4f1vAgVhQ3dCNuPP9/NM1/XIEiBDoCYvdiqViKdONxoxqHY9a2NuNWaOGuGk8Uo19bPFtXZ2XCllWjxnjGbz2ejISlY21prdPuNuLHaXUmbiasrEXjj5vXe+z8/mxTWO4cqosBatfvk0PjxznoKJVvmMq90pd967Z3QN8qxP9h/NBxNoma0dWN1a+P24wf7zbj14vH58ChDrdc614+OD/qd7UefnWaLQZGnqMO4kRweHp4en25u7xy/GK/3tm5c++oP/uDjQIeKAgAvwABCioxRYWh0UfL65pW9o+P9g2Nb1nEQBWRfe+1af6MLCGvr697hs6e7hKrZaGxfuZI2W2i0OBeEUURaO/ZCjrHR6pR12e5vTMYTFiJUIL6/2oqurTvnrl29svti98qVa0VZOhuFZoULsIUNG9F6Z6vK7XAwdY6ch6VULeBZWJjZ22acrrWT29c21zc29gfnTw/2Ds+n2urVtJW2egxqMp5EpldbzrK80VktwvJonn3++ROlzEq7fW1j9c1bN/qdNsbRxkp3Ny9ri+KZtLYWTk5H33hj02BBHpxnhRpKmBxPP/jZpzvbq/3Vlel0fDauT8fnrLGeKe91bNJi4picRdeJ1wf7WdrsDo9nThAo6PZWzs4e9TtXswmeDce7Yq/0N48P5qv9UFHELiOtFIFSQgqJUM/qyer65rODF0Gg4zBwtnYsWel29072906qCsqiKvKs3Wou8vzaretROyWMr1199XC4n4+GflH0V6/oSIsxSiWptrWD2ouw906CpNFot995501A6PRXr1y5ymBINY2O9/eeP3ny4ZXtbhKYTz55tphntqqNigCpKkrUynvwXgxDL4rWOo3QBB98du/H9+49PjyrajRhuNXrxmpro6EWC/YbfTCUl+Ws5uPx7L37Dw9HC0QTBeZmJ6oXs+9++5uNJOimsQFUrAC8I+cULvLFzurVhPKJGzRU5Em6STw8OVsN14+fDrJxpgM9X5TtVpudAOeE7bJYRKGuSlPXuYqdVFIspBgrjgOKws8+eB6Zwq8lg8m4LCBW5sTPvWX0zOIdeSBNFWulldICqFfX1hDoV3/5zwGTs67MC8/l5uZamsRxkq6u9NnxcDgwQdi0leU8t3Xa6eXOX719KzxNPQTCxnKdFZO19bU8XxQHea/bvHb99mQyWVlb73Sa3f4GKVxZ2yEViCjEAEFdu35za3MVMT893lvk+WQyDcMQKKgqK8wKTe0te68Beo20ncQherGLOIC3b16Jw0YNsNrrUpGRsLMWjDY6rL0PFaQa37l97WblojgloY12srOzHUeRR7fWbSlGQ8o6tuwDIhZITPqNt9/58Wc/8pRu7Gz30+D48cHp/mRwPGOIayyDsKFsdHZ8fGPj9s1rr3328Y+mZ5OvvPXrP/zJH3NiF8MJ2+HWrTcXoIS8yj2Z+OwgYzIaNIkB1kmaIIKwExQRRkaFCoAEQJeLyigBLY0krdFVWY1AAHh0clKX1ePxCxDlGRbllJQAZbVkz/d2W2mv1WlOpxNnqaopLxcsBYuwq+PEtFear779WpymiAE7Z30V6ICZHYtWAGIBWFhMkE5HC2ejB0+eMxlt4qLyRVVGUcTWsq3Eu0BBO407zWitG3X7r9957VpZcJ3bvKo9YDNYD6U2EdbMcRCl7W6gFmEAa3mOpFppo5W2uls7K/1+ZFReZt2kKaU1QVp5K54h1mVuHWOj2ev1rjdM+8rarY12V89XfvbDf1xY5X3MXmqrjxaTxYzX4jCo269e/+ruiwcrnY3XX32L1PgMDxth95vf/HP/+v0PF4vhi6fPX339VgCqJhZRCkNfoyA557xnYREAROXYIyIQ6tioVqsZGGq3k9Foura2ogPV7bU2tzbquh4NZ1HQOhsOdDlfzEf9td63v/tmXVZJ3O60OlmWFwU7G3z+4P5kdhIG/urOdaVwdW3txf7TZre71l+rq/Lo+Hh1fe3Tu5+srq+FSYjoO2knDRu+BktuVlen51Nl4kVhy9KR0kjA3guzeBsEphGbbjNqtxvOaJ22sllZUF5FlhU1wwRcIQHqKI6a7c7qpkuynvi6WLCtSLDTSuM0CZUKAC1QK0oSZWa5NSaunS0Ln3n+gz/+0fbmOkvcafWvbt1uqMaxnqyt33r1nVeF8vc++PG7b30npPTjDz8i1d89nIOpv/ar39M63FKrs2z+13/jr82ObFlHQA0TqqSRxY3EkoirUSsKVM2VIJDSijQCeRbvnQLw7IlIJ4msb6bNZiuKw2lWIOiV1bWdK2smQuftdrlaV9RcNfOFsXX01ltX0yYARiBGJOv0gy4kZUHNzjtAr6QRa4V5nolIVvLp8S7YhVJ0erLb6cbNZpBl5//4d/5lnOrXb71yfeuat2pr69bDJw+OjwfOAgh5L1oRATovtXVEpAjTJIxCDUpHjU7ajV3bF82s8t6D8+XCWc+hjpJUm7jRXCkkVGI7jaYCT6TSRovSRJEG54glJJ0G8fx0CoFLmymhz2z1/PSspOCdb7zd6DW5zE5Pp2mr8zf+5//ReD4/On8KOk67Kzsb19NW92QypyAaLYaNzX6Ryc9//KlJJ9FB8/RR8e67f0X31op63GrtwIpZZItMuCxnKfg0iIMk9p7ZMwgIAgNqrcIoYhHd34w3ttMwNo1GvLr1tvekFQIWgoW4opHEImF3oykuEu8M5SilZ2AIGMXVSJjqsN2KjIAXP62rMjCodNDvpoHG2OgojN+88/rJ8XliovsPnzRCEynef3j3/MmTyDThLfnhv/rDuvIAxF4UqSjQ7CrngYUIlACwF1tb9izOA3FImqKIvHWANZMIxY1GmKREQRw2JLA2Lwk4jAIVRRIGjKBQnLfW2uUooICzMJ9mjWbYaCRz8cez6V9565WKz58/eLK+/VqgV8FE7ni/OivmbmpNeff5Ryh8MDpt9zaORydPX6yFtBGrm6sb7v6jF/mJ3p7mC1+dl6dP9j+Kh/Ha5ubB8bGrbSuM17q9G812PZk66xSpwnpBzQJZnpso0e985Y4gCIKDXKlIkRKoGYrKTryUVS5x0GCHikEbZMgZrFKhEq5d5SwrZQ2IphCRgS0gLxazJI0J6rXVFolGEGNgS6dCeHTUcNXO26/f2n/ysByNdY1PP7g/3D8XD8iA7CNtSKConHWCqMTV1lJR12VdeJ9oVwgAQkjgDUCeFYtsEQQmCEKpnZALIiWldnN/dHR49cpWmiTM3pdcsoCtpS7AliICgCDIjuezHCGUVP/0k7t/o1qQmq1uN5txWmeAZC1PJvODjc3e7de2/uX3fzuKQgrVeHr07PnezRuvtQO/1X31V77z1u/94W8V4kbjszuvXMme7U6fDfdO6f7ZiWXoJK2s8ueD8dZX3na29izshUXqqgxXwygyWqFWGlFrx4JECALAYp33FbMzGpRGdBlayKdTpZxpBRVIEhFWlgRjEwh5wplSEQoKOFLY7qRlOTYRsgfnPCmKUhOkFin83ne/Nh2yAtj4xlpT07337v74pw/Aa/GVrSyKxHFcVLaqsax9gNyMEmRblNaWpbN54AL2UnJlSynz+uToMGqGa/1VYcGyENDeC4ILgmBwPlTs0bk4Di2rona2ygTqXqfR7a+5o2cijIQolGd1oPWj50d7+yfXdzCKkwp80A7I1Z1V+bXfeNW6VzZ3zF/966/ESeP8uPnP/umPB8PByelJtEle/Ifv/Xh/78l3vvW9+cJvX1l7/2H567/+vc8P905GsxdH42E1Fh2G3iFCEAXTsaudU0orBc7Z0Bhgpz2TElIEChUKutzZrGLvW+2WhwrEoaJsNhmdnbOre1trJm2KI8NhELfLYkGGPWaL6bHWFAQdb9lozrJpI4mTIKpUwIDeK7ZOK4mUSlZ7VWVr0Urj1MvD3V3npaotAyZpk0FVtrQsLBJEUavdjF3lK1/OC99uWe2s+Kqoq6IeDMbW1lHgZ4MzVJS2e3aaH5wMZ+MpWBsomg4HEXCn1fRKZVWdFUWBKFF7ZX1T4BkAiAgSIEJV1Xu7+4/vPd9oX0nbGsPS84gi2rrWqnyqFB+f3jfBsC5npLtkBjdvd1Y2YFI9DAJfmfDOm63VnfSj73/s0+hkNPjK7ZvfbSXvf/p562pjPJhQaRvGJGHoyhoAAJAZEAhE1xUYo3RVQIxUVYUtZs24ixUqpvFoWrExiYjyYWjSTuuKuTUfz51V2jfGoyIEiBq1DuPa2VmWB1HTeg5MC1CclE7C2puYElczs1Yc18UcFNV5VhYLT7R6Y6Msy8PhbFrYyvllf7ygWWRFUbNlqr3ktY+b3TZIlttsXubzAiAQkSzLh4ORta7TbvmqOj+YeOEwHlaORrOi9txKkyg0xTQbn59DXWKoaua8hhGEP3n67KP7jwEAQEBQBJiRGYqi/J1//juv3PirmzqeTQ9b3XUVtNjnJqzrumqksQ62qjwYnO+njWpjM9q+kuwdPPmV3/hWHMaNePPDD/ZuvXZtZbtV1NPP79/7i7/xK2Li9z++rwAPd/ejIHFVJd4jkBf2jIRGUaBUGJhIf/7J09W1Thwbtn56uB9IrEKno2A8nZ3tnty4c3W2yHq9FaE4q8p2f+vJ0xdHz/d6jSaTf+vdr8WtdqBjV4kiNThdNBoNQ6Yq4/HZ3K/2G82V6TRTQePw6fFschoqDaSG88nmfL595drp4YhZF3Wlg5BUMMvKLLe1g5rRAs0K+9njF0FZJ7c3KwiGo3leeRCcTCbWupV+P45jFG+0Lssyn+cMYSNKdRTFUViXWV3k54Mz5+owDT1CScm5xd/+o/dfTAtEXNq/iDCLtT4I6LO7n+3tfe3qjVuN2C0WB1G4RXokODk7P0OkfhKHrfgb33xn58qNwaAOU3Xt5hurm3SyP2g3r44m56eD2WdP3nvjzpW79+//4Ic/q0Uv5nlZ1joI8qoqF5l2rJXSJgAwIYVx0gjD2JhQt+N+OS2rRbmxvlaU9YPPnsYJeWVVqBeVnDyfra+vFlN0tdfUXYy4k25OzWI+nJpELUYLcWGz1ausdaWvZ/nwPN/e3nBTUDYpxxCDDySKdGd7/XYouLbei1qNs/NzHYRqwqmPxWIYJ550Vdu8rB2LZfCgSgfeynSxMJU9mlYuSiubQV4K0Gg8j+KkrMH5WsSC+LJ01oLS2pY+L+cTmMzn0/ls5MsCjG6HAYNIGh8N68NZJaSBHSzDARAA25prhPGs+OTjB6+/1qv0jCntt00YR7XTYoMgMaCsx3FdhZtb/Z2dOC9HeRWJnwFmSs9/8y9/fe/g6B/+1j8ZH3J2nGcqH0wWQnqr16W1RkCsBcUzM5PS4FEYEQlAtDH65tZNy6W1Cy06bre/+fVV4Bo0kCIBZmEFIqU1zGHScpbYwOY7K1IXSosolArs2UgLhgBJ1BBGOZ/vxCuqYdgaO81CHRWnZwHCzsoaelufjTo6lppmo1E2XBhlCH1tfVU5ZnAM1osXZCCPSrSqa94fTBZerYQJgY+juNVqH50NP733+Nr1a2ubq2EQVOQlULWnqNHsNGIhGD2c7x+d3NjZ6q2uh5Gpvbdp++P7P61lWeYDyDILALAoUkoFoMyDhwfjcb26vdLsbkW0wnk6HTnlGo0wmE8fmagUwNqV3s7q6iyNlRcTJ/VodjcIurdu9f7Xf+dv/LP/7uM3Nr51+861bFFpZdZWVxDqweDo+PjF+clp7bzzvnbCgEVZWufrotbFwYn3Tmnt2FrJjTHsHbMXUijinWcAAiLUbErxHgCASFgEra0qYC/egYiwFxDvWZMRAGBPBNazNoFG8kieBQGsYy+FBx5MJkzgCZx1IGStOG88AwMzegYRZCbAEI+n2b3no6tfvRXJdCUOpdOoUFtWeV5ee+W1zes3nDYUpdZhHCVSud2nz+3DZ++88mYvDnpp15vMU/vRqP70wTMF3gkCICISCIAoIiLlPVy9fut8Osky4hdlMV/kzYFhJ9RqNrRzs/PzBaiBFXP79pWabWiaDdxe1PnWmirqgYdJmVeYr3z31a9htTLNRqummaqoPi8WvAg8ArN16B0qYEUiRjsk8aA8ap5OlxoZiDhrQSnPIswgQoACgACOMExTAacAGUQYCATQ54sFCCMIMBOgRy2samZEJFSKxLNV5MRoJ4yEAMDoNKnpbHZ4cjidz50Q6agq66r23iEiGQNsvVLIHgmBAl1U5R++99mb11ZfWdGLug7jsG/ClW775ODwR//6j954d7p5/WbYcI5xfnp2/OJof39/c7XXVbVUmZeq9GYB5g9+9v5hXnpUKAIoAoKgFaKwbXfT1ZUkm56GKXz20YNvf+tddjCbTKSYzsrs+pvXyPjD0Zmn8c0rd0gvkgaqfG140Dw6mnWuhbUKgzA11D7Yn8/Hom0gFiuFXnsOxXuGyjJ7AWZgZmZBDYq0eKwoamjNS1nbM4tmpxDAizAgIgIQITtvPbOtFWhZGg8CESGSIkJQAALIIKBELakmQlqWHCSimBWLIDAIICgNRZ5NFpOT4WCc5RQkxTSbz61nQqXAOxQmFGJRAF7ACZgoeHg2/N2fftj81XcohtQEcazFuqubq5NJPt59MT86Y1DahICmYumnSTMUZScV6opk4uP3Hh/90cePaiIAChDJSFk7EApMGAXB19651Ujk2d0HUWfNW5qMFitra4tidnD4YPv6lTIfS+2vdl4D4uurtx8//bDZNRvBO2JDA5qtAh07R91eXwUsgcvteU0W07gyCOiboc7OXW5zRhYQRgBBJAVCQsgI2hExMwIKApMCRU5EcDkByN6zCAMYFoDLPT5ERMB7QTJL1YQ9AIhmKywajQiDt4giguzJCQMhKgCERZFP5vO7jx8/PjypUU/nVVZ4D1qQtSYvLCAipEkJMCoUkdJ5h/DJ84M3rvbVRroKSdhoEEoamqTbFUFnOc8rsSJUs9YRafZWB0ZUY1LLxweT/98fvDd3DKRAQBEarSvrUFijb0W0tZKen+75qt7ZXOv2WqXLJvPTVi/5yq+8OZtOtJHJ0UKX7bX2ldFjXhRwOnhhrm2hnra3Zi7KB6PjXr83y4bD2WnYbq3fbn+8+/jh8fGMhb0KvQpraIj34ljYO/aCyoHCyFulg1gXDpiFED2ziBhEL+A9AwgCgAgCCYgDAgZhQALHTAiAUFn2nlmAPYgAoQcBrRkYvAiIY1HaowJi7zRjXVdPXuw+299XjWbY7k1HR3nlHCMjKqUFWSkU1K4Wo40SrNl5AYtsFRSg9s8nbb8A6LYRm3FqUZRBg5rAcahEUAVBGoWeUJSxSIOi+nR/8N/+wfu7o5lTGoSAmZVDMgRo0LWTKEB7/mKvKrJ2s5E2wll5utO9amFswdkaptX04HA35U7qoucHRzOc3/7V62eOptVkYz0VFkOdsByIcJw0v/rNb3fb3cd7n8z8UbPPiqXMKzevTRJDrj07Fg8A7IUZ0KMiRUp0XbEIIIqzHolAwLNfJsxlvQIiAFA5YELvGUicZ0Jh7/LSOueZgVlEwGrvmaliEBD2gJ5RDJIBpQirLH/86CESvvru1w8Hw+H+2aKqBbXzDhC0JuuZWRRoYKd1iKS45Np7UkgGa5baQVZUR4eni8pe3doJtULDXjyFhMogUBCG2mjRYcl8Op0+OZ784z/84MHJGBSBEDEIeAZAUoEODNgbV1btYpINp0mSXn/l9p1Xb65tocVp6U0/ac2yOorjsjFNk6CfdM9f1I3Mjs/2F0H9ypsbtR8FtOatarXm2WJmVLfdu+Gg3rly66+v92pxrLx4p1hO9o5+/7c+cd55ZlJKrBAqAgaumAs9r2oRWY4ykpAXzywAnr0XEURAYABTVjGSdw4QAQAVOqWg0WBGAFJKGxMGgSZSSqkgCMIoVNpgIDqgUJmzo4PDu5+88o1vbGxtzvJ8d1qMF8565b2wd0IoSLDEWgxEoFEjMJEAKPZeISvDrBkD462dnc+OYLC53u+kkdJEARKTCAkAmYjBeV8fjaYPDs+fD6YOEBgRvaAgAgAJCGoBD4tp9vrmTpjnNpt/98rVX/nKV03bn8+POjvrq1dv9Cr9+On761fX8nI40bs7334XVTOrslWjfTEX0RVIXg8fPX2ws3FFm7rI9wjbrWSzaVbYe8BScI5g92fPwHnvLSHWzGgME9WEFTqnSj1WBAgiQkQiEgah0aEJQqVQBYHSShmjjA6jKAwjwOXCf1RGq9AoHRIRoCIkJA0EF4dSl88YgLPpNPf07i/9miEsq+ynf/KTDz65X1QMFNS+Erw4ABAAiAiWGF0EBAm0RtHsNUhotFYqNEoAR8MhsWtdu2qU9t4hEHsWgdotmOvhYjEcj4fTWe08IrGICF98MgMjgtJFUU2mi2Bnp9NI3/36N+/cfP33/9kfffWX37z+2q2w2U7C3sno5NmTo1ffWB/PijQdCH6ytnql318tiqzyBBQcHhyORoOb22+AI/KBDlRVTb1nwBhAKUSWSoAX85JFQICZAUkAABEhRI4JG/rd3/wfKKUQlkEcSStChaRQkVIKEAREAAmJWRCXeYERkYFBABABaGm/gszs5UuDCELIfjKeXbt5ezwaPnj45Cc//mFZ1kHcnhWD2kPtmZEIBBG994gkAkSoRLyIeCBRmjn01NQmVmg0BYE2Oqzqcjadvtg76Pd72mhh8F68k5p9XRWjPBek8XRuWUTk0hqWfi6V9aSNkJrMy7K2aa/5zjfeffPb39Q7wbg82D/YfW3jndn45PDo829/+1c2N7fuPwgdnIWRDTWCr5Sqi2zx5OnjouTXbr/da/Rm40W1kKhRix6O88NGclsYxOZaFaR8ECKzJ1Ke2QN4ZgAgMAoj5Eg3e+sicgF8CC8ZOwEATwiy/IMsgHDhv8sbQVwy6wgXb0MRQdRLY16mD2QL1jaMevjxR/fu3/vwk4896qTZffJ83zI4BkHF4rQiZl46QV3XFxcjSEBKkLw0lFptxKmhKDBhHBKqMGxwXS0WWVkWURQqZZz11jFq1EYrrYtZOZ3nVmA5/Ih4cZukRMR7EVAV208fP137+ltmJeYN/uqtd/Jq9ZOPf3gyua8b8caVYK3bQ2nevPadef4c9Jg953Z0dL7/8d1PG61ee6Wfl/n50XBv9+DP//lf0eALf5jVi5ohiVJn8wAsOZnPT5nFeU9KCwsSKWNIAbM7Oz3T4hEBl9UhXAYRBcLCKJeGDLhsWAORi1ixrGYu0/TyiVrOkSzfxMICDMR0dnD08LO7n9+7W2TFouane6fWATNaZ4VZESl14V4i4pwDAHbMngNtvLOKuB3iRqeRaAwMGaMJlUFBCowy3ru6LgVqFFLaBHFojM6yYlEUs0UuX2IeEC+ehJocMyhtgU+y4g8+/LD8r+v/cOPff/ubt2ufXX996+79j1//yps6wNFkr5lEAhBH7SBKbT09PT/4+O4Hr7/5dYfR508e997cgsiapjkY7KvpAoKJoG83My9Gae2dV8rYWvNFn5MQKWEEQAZGhSurfY2EIHIxcuwBgEWQEOky/CxH9yJE4xceTS8ngC9d/DIJLLM3AUiwyIsHD1988NG9RVHMSj8vK++ZGZkZARBYEWqt69oSUVXVRISI3jIKITIAhxo2Vxr9VmIItSIhUFoHKEoTgFNaAAiBlAqVNh6kqqu6rvO8cJ4ZEH7xcM4bZzUpy+yBOA6lE//wk3vT/8v/8+/8p3/rG1+/GZG7fe3ObDjbud4HDYJDBkumLso8DIkCefPt1+JG+1/8/k9r9j/n+/PxTBNP7w03N9uj6VHSSLut8WovvX31NjGjp3rxmbUnIuI918JF7XRYOicMBlSivbeXORCWMBRJlkkQkJCWzPlF9AQAvBx/vPQOgWUGARIPSALEgiCiFO09Pvydf/SPT/Ye1jXUVjkmICVeBETYKUJNChCYmQiXii0ROuvYAqnQu0p712uGW9ubrYRizSJIrIxogwrJBzGKEIAgakWBMJL4msAye++VIkELl5cHCIhKBLz1YajFWyTMyqqS1ub67c8+2/+//p//P3/rb/3lX/mlt6UK9549RYnXtzTriqk0VLoqcFaHMYSd9E9+9r5XeDI+r2C20uqMhtXm2mbQ3Ly5cnVwfjSenC7G+bOHz77zne/20l631W1E6QhyUliXpUAYhBEaHM+H2eOhXgLNpX/i8jnQMoBfZq0lbXhhSwiXM/DS7vGLvwKC6BEQRHGJ//r3f/L82b7isqoz5wEQSSlw3joLCMLLxEPeOwFw1gOQiDjPYipBAG/TUK6stVc7jTSswoBFOdC1KM9KIZIhI0IijKgRSBDFs/NihUWAEBBBUC5yFiKRAiAAZs9EuLyzk5OzKi/73c7e88nf/3u/de+TB6/c6RfFeOdabXk2Pj9ZWW1mi4Mn98/6a1dWtzuPnj8bj89W+lvpymaSmOm4vvt499nB5NneyXe/9vUHDw82t9SNzf7B0fHv/+C3b2zenkxPvHXCorRCrZQE3svTZ0+0ER2I1peQ8RLhCC/ZIXyZTX/x+DNevAxTYAQqkFoENbYO9ka7LxYq6GTTIyuloPIO69p77wlRAGDZVo7khK11zARCtq6EFQQKBFBcJ25sNrt9MjFqtRxQ0qCVGEWiFGhAhSgAJELOsgclSlkvvAQVLEAXGJeItDKemRmc98twSoDiuSyKc191O9HwHP7w+59m89tXr6VPnt47HIZoWmmjyxhv3+qilIPTUTPcunNNrWy3R9Op6O6Pf/qjvcPR5nrcSt3de492nxy+/uo34zgMQnvjzo1yUp2eH5e2tt4JEpIOdBRECSnyXO9cWdXL1PfSzC+aBi4j+csBfjkZyzVYy1+99JiLmeELosgChHVF//J3P5zMAua4cAiK6qoqa7UkOBDRWUdKaR2UdS2M3gkIOeecZVKK6xC9xKCu9fs3V1c2Yh8ZjYQKWEOoIdISKxRUpQALMAISKgIBIOcsBoEJI6MVAXhZyl/IXkCBVgoVMS8nAJ3zYWi886LVbFr7Mq5D89EHx53O25uwvr5yo9VbaaedILziWnvj0QuSuJfs6ADLehgQTGcFWtpZ2+j3emArXyxeu3kL2bTbTT4ogojnvhpNhtZqQBRAAQQgz7iystZsJrdfuar9kuK/dALEZYz5ItIsh52Fl0NNstyH9nIyiF7OFwCLgEiA0PijHzz48c8P2QeKtLWRs5hXnsiYwLi8rm0VBAEqXZa1954ZlnVAXddIhAhGCiJsJdHt29s3bnTbMCVxzIzgNdVKaSIGMkLRcs0tIIigAAAjkwYd6DAwWisAiwCCwriUK+I4EXEKtHMFIgIDIQpDVbqo00QdO4fHR/k/+e0P/h359/7SX/prOs6MYbB5UbtYjxudZhBFdx+dHQ4Oo7R9eHweYtRtmG+9+9bB88/LydmtN167dnUrCsMb124+ffaC8zRJWvNJ7gUAlYAHUF4QRCVJU5hI/o3jzwg7vxCBLqYJL+cLX75EDoEIGp8/OPsXv/fhuIgnuZS18tJgnxJGOlC1Kz37MAiJyDknIt5556zzznmLiEsUhKTJJBU3Hx+654M0D97A1mume910toJOH9NYAsWaLBpHhlVgUTllwIRCBpQRRSKwnABctj1d+DcAgPeMSCxLVQZBMNABM+T5wtqyqOrZjIfn9E9/6/7v/YuPtEG2GZRhxL1EryDYR0/eMya5fvWXfvLj50S9ojZnw+zo9NyJW93sT+bnAmWZF3WJ/e7VZmO1tuCYSanaWQZQJlDKIBln2dZeX1StX8oBf/agv0y1F0kALzAn0mXsQkAPKHWp/+hfPTod2LwOiT0IB9gUagqV7Gp2PjChY66ss9Y5xxef6EUBISGjCHjBiGFlOE4OjviDj3e3eq03rse3rzW3N7YbUZ0aF5Io8OJLAlG4VCEAAJicUqTQaBMao/WSQ7+4bAQBZx0gLe+SmRHEOwaFiGqW5QykJdbKzAtrpfo//R//cxP+lc0VdNOq2xq31r3X9dHzg0e7+SBLHj8bL6rTF/tns3y2fjLQkP/Gr/3K+fGL87OzN15743Qy+ZM/+UC7GAE9i7MeRIn3IBSG6WQ6Ho9P19a/rr8c3C+vieBLQR++pKHiBdK5fBVQBL9Ap1608fc+O/r87sK7UGkWD3mtSoyioIHBFKwNg7j23pbWOmZGL4CokBkZ1RLPkDAyEnkXF37FY3tRubMD9+neKFXn7Yba6JjN1WBzNdrsx+1YN9IkCsEgK0SlVGnLyqVZHS1qWVT6QlhaoiAgYWHPIhePiMvqD7zzpMAKZoXrxJrBSySeeH83+H//Z/f+V//xL/vyaZzkTWzVOQW8KtWLKs+zhX///XtK66itrXhjzB/+8Q+gzOsi662uj/NstLBNbLBjLyUQi/eBMsLO2jwK415nPYpifQExL4f7MqgQXBJilzXBF4kaL5IEXYZ+WJJuSFjV4Q9++LP5wjlPLMv4Tl5A2KVRBOK989ZaFlRkWFiTZmEAD8SwxDikgAg4sTYGG7s6EA5APGN/wmY6rfenhXpRKMhiNYtN2W6lgWGjMDQmDIPa5lVd5NViVo6HC19AKlAB+EsTYu8dMwOiCC8VKqVIlj6Eqq5dJnMgcehFz5Cv/eTni//gP7n1F/+dX8qyDzAcTc5OahMkzX5PiPKDG1euTOzUU+24Ho5GZ7uT69trmztrP/nZ/Z9/8qS0+uZmd1GOmiu64pyJtjb6NceVKwLdaDRawqS/bP5wwZkw89JALoqtL0PSS39ZTsAysQsAg3gi/dlHx0+fTD20RAQgZxYGTWA8E6JhNGVVey+KDCEBivMePJPymlFIkBUTACJz6m0o3ggbQGJgQAD0wgSQMIZO+UrU1OrjgRO2CA6BEUQgITQsLJgJGVGAwsvBZ/EAiAx8ofgBIhAg0QVMRQxYau8qUuiBSxoRQzlf/a1/9Nlv/IVbrXD18Pz0/R/fX1ndzori6e5pq3vl3a999cef/PFsUT588CwiCBmOzGz7du/F3mBvb6GCRqAPu2nZTFZRJc+fnZ0Pjq9cf7WoEb1oTXlRfAFDfzHog1JKvjT0v+AoLHBRLoggLPsLALAszIfvn87muqwr6wWYBfwStgZBICJ1XTEzkRJAVIo0SlV7LwAKCS65JqWIrCS1117UJR5DEosiIEoAQRBBMSjGANEIhgBexAkwimKsERziFMSB5IDysq4EAOYlZOLLHAZISChkDNRCBGHovPfAJJR7GANc/8HvP/0n/+D3usGnonM7ovfu3vvo0QtJ+x/cf/7Te5/fvLVqgmQyGvoo8Erffzgt7MEbr23/hf/hO5NFMRvM79/d21wlQw0WFZlIKxwODtstXblmYFH/Gfl2SUtcWL+I8AXrCQDMcJkMSF2wEywggsoET3enD+5PPEQWFsxKGFA8iSfFhsDVhdgqjgNBhUTWc1lZRCCF5A0CsngUEVQsqvRxYSPmCDkE9ACMEKMoAHWRkrwQeECHqC5ko4t2QyciAgrQoGgUEvDyRagEQEZABiEEYRZApYhAHDNR2GilEU6zPEemkNmqAZM/G0R7e/atX7slbtxIV8+Gn06H8/HJPNK41dtabbSOBwdc+biTdNpd66KHd7M6222s2Nfefi1c2zhvTcbThUHyjN1Oq6ymSSJBWKLKxpP8FydAhIV/Ic3KZYGGhEvhZom3CQA8CAESEYqAePXpx/vzGVrLArVnw05AvNYcKEF02mCkYs/ARF5EHCtNDMqzkAbxwE6UZhESryob1zYSiRAMCCEwI8ryuw9wSYkzAqnLV7/AZmAZUECLhCARQAiQ/ykjk+VdCYRhpIXruk7TyDoMgySJDfq5VqisjoWEK1Q+d8nDg+rvvPUNLl6MPv3Eu+qNO9ef7B3geAHZdHScZdkkaCoVwNn0dJLl4uTZk0zv65Oj3Tt3+u0Vno9jYlMU+bPdx2ubPdLkZa5N33vSuBTUX2aCl6EfABgvbR9BZNlRCRdqPTMISgQAKCWCGg2qT+4d1gwsBYEX0Za1VoSUAU2Ico0EoBDZOes9KG3Yg7fiAD3UKDECo8oF0fpumcfiNSAL8kUXswgs07W8rL7JgUZY6hsIoAWQgQBzQIvLyhG9gFzgIIAlbMMLbwFFKtSBL6uqdmjSalpyhNqQKDBK0ChVr2ixJZY//6Qe57EAXHnt+i+B2n3y4tZ2uqjDlY3bP/75j4OxuMijRufqtGdUTOsb7Uh3PvnwGXq5fksTkfVeJ9pgilpZl4VQzxfDMGzpZb79hRD0haVcRKQv54gLrmKZeIFBxCMbih49ejoczK1NLgKViEKvqdRUarIEVtgisq1rEVDKMBKzAxAiRZSIIJLyEjiXlnnqnSIyjARAl1oEvIzjLy8WfuFFASBABiAEhWhADIi+JK+WaUAuxA9AYPHWRUmqdFjXla3ZgI506FmRoCArHZILXcVE+sXe2WDgv/ruzTI7gLkNITSN22G6/sc//EA5+71vfP3R4dPj0XEUQKMRt1ej3/zLv3n3s73P7+8dn84a7YYWD0LOcbvTzPPMSxW1FippjGcTfTnEX6Cgl9YCiCwCzEQK/lRlgEv5jAEFGOoK7987srViICeeQVDEYGloFqhMU4lcM9fMHkUI1DK1eOdRQKFiQNbOeec5tLZVlSlwDBwAKwQlwEsKE/708XICvmRAgAIKJACMBCORECF/aUvLmVBIeFG4cJkV7aSBGrHGIAiUUJF7rQIhhxiRCgAAwcwz+P7vfXL7+quTwdnHH39czsBD0VmZ1/OZz7PDx0+SAFsQZPP8xpXNs8HRvY8+e75/zlJqjcY00I7LslQ6LqqKtHKshtPTRT0NgpiEedmIuDyFGS5yr4DI8uunLhgCpUgppbXSmkjRBS3ERGYwzPd25yChiCy3JEVxRmUBTUO10JwT1yQe2KslC8zsrfPOwQX3XTKVDsRDIy/Cqg68DdkbRLMsoHBp1L94AhC8hDIAcEE/A6ICCEEihGSpj8uFnCSwxE+KgjDQWhsd1LUrKxsHSay0As/WkURGpwLIokQY0CICQOPZs8LVaZx2v/bNb9169W12+uH9z8+Ojl65fnNycl5NFm2dfO+tr/+l7/5GyK39p+eukiCE/koa66DX3NjZvOOtWSz8aFxO5hZVmpd+PJl/kYS/TIsut1Thi9asLwqCL1ufMC375BQFu8/PJlNyTjFYISvsFLLRi1AtFFfe5ygeGVDAs7eWrRfrwXlROgAUJO8de0jLsj2bxXVlgEPwJEIol0no4nyJEL4Ik19+RAHBJcEeCiyTsALwy8tHFCLC5e7NRgGgVqao6oCqNA69r4uiEgqNpij1la09lwKFgAMIHz05z6tkb/841ri+eXU4HHiQyWye5/l3vv1LQRzduHXjxvVr65tbZ2ezP3n/vfPzkwCUn/thlZWNpKznp4MSAmXiQDTt75ZpI/Ku/GICmJkuahK4vNwLcCEvdZlfnIOl2VkrT58e16V2XpyvBR0qAOcRCoJCgUPwSOiFvIiwOOeq2lmPygTL/1cEEBPxnWzeZNdSlDAGy+LpS+ML/0YO+PKVfCkKMTIowADAABiApdbNlxqEpzAQwaquFBlGCHC5iZsKI5rN69pj5SVtRXlRM5cCFaBFNE+fH/7dv/df1f6Dq1u9zc5kcHo0Hp9871d/5dYrd+689SZ7n+VFHEZZMXd1NjofVFnVjNsnu6OTRclmkFdWhTruJGuNrpA9PjgLA1BYa1i2cMLSepY2Rpf3+oXnXjRvCSAQIgrIRceiqOm0eP78xEoA6NGXl/09My21ZlLIgF6BFkax1rF1AKKM1hqRAJnEKQjnRXcwbi/KhqKGWMMCSICsAHDZ+fgl2eeLNgC4aFe9+GYuBJAlwQmwzMPMBsAgWAAB0QLk0Zd1nURxmiaLRYZal+i9qzCrQEgrU3vnOaxcWPvAutgxiiwQWuM53Xs82r4SMqoXB7u7u/fTJjX7jZuv3qydJTTM9J/93/8fLw53z/KRt3XgITvJEmkUIrMKssWsbcJ67rKhHUymkW4aIY+sAYCIXmIhL8v2sYt8hZduzReNBReNcSAi4JFARL/YPR0MFrXteGBGFseCQOhRJCDy3gF7IG09VI5L572AUkRaGIC9rmvJymA8VXkVMkQASpguh/gi8nxp0P+U4f+Z/rCcFAAhQA2gLnggEEQUQu9tWZZxHKdpUhQFkgjzwvtIhygoAJ7R5mxt7CVkUCBCAJ7V0eGM/XB88jSm5tWrW+tbndOz6d/7e39/Ms9NELfb7d29vclslrYatmF3Njp7u6fDsgADvqzTWBkFUWzE+YB0p9OI02C88HoZWpZtcRcm9iUx5gIjvWzpkKUKv2R+nK1FOHj+bFhWxjFWUAsJsxcWRFGEhH6JxFnYCzrQQBIioPZOyrJA6xpV3Rgv4qJuA3WBQ5Zlm5f7t8cZ/LMm408dy9hFiAZAyYXSzYBewBOhd34+n4dhGARBXde1cwLAggrBUVR5xd4oaYrEhAGiRibvIY073/j6llbHLpf5YjB5vnf34e5sNptMZ0rrTqsl1ioi44NeuvKt737n2o3BD3/4vvPUzEtm2+60TKAXVbG62qbIWKk2u339kvB5Gf35oqhEuRTjEQgu6gER8eKZUGxZAAZHh5P7906dSxxg7a2mJTGHCi+QqgAjIYt4QCFNKMjO29qyMDRqbszLqJQuY9v7xDMSEBACM8i/DXfKZdvAy2n4IjldksxLWyEBLaBBFKIFFBEmFKMDMuScq+t6aWSA6ETY1aExgtpLzNBAaAOkCMHS+ZnBiT+bHB+f/Ay8ooB7G72Dk3E2L5MkWiyyqipjZZpxknSi2rt//k9/t2IxSehrT7UPyLi6ns0ms3xhorCx2oaA8+xLKOiymF+O2hfNKAjysrkAgEEYSZy1KGBM8OTJ08O9eV61HXgBL+wVAKB4YSfiBZZdLs6z86I0iYe6diIElAi0F1WccWKhISphp5fa1SXQwS/b+kv1+ZLYwS9++vIUIS7ZqQuEIMvla1oAgZfei+wZEIIgcM4tVTmRCzbDC7NH4RiwxdIkiBBIhAU8Eo3y4aiauaiMokbuy/snjzBoc1OXaE1Dt4P02uqWy+rJcGyF8kW1sDbtBnlRVJUQcLuZxrFRJgzTEAI9yceLMrtQxOSyQRoQ5cuhdYndREQYL0pfFmFkURQA6DhsRXF/nEvlZwAevNeEIsgCFsGKBEp7VxIphWJt7bhUgVLULKooL6PKx45i6y9b7dgJs3gUXjLQ6stj+6Xg828LQYi4lKyXrkuIgUAgYC6A0FIUWzbfMTOzUmr5owggXRRCCKFIIhAKGFwaFnhAntvyPJulLTMqZjXUZYB5sUCBbhgB25X+1jff/erg8OxkPAriNP/cF+PJaDhbFPl0WLPDQTiP4iBq6NJV1ZQhgH63r5dNKHBZfC0FJCTEpdSNuJyCpXZxyYha1F5qqHJ+/OjAWmcCo0rw1i17271YYScMtQfnvTahd56Uk9oGOhIyWUaTOdXQIGqKUyyGAQRZyBMT4LL6fZly5CKFXgz9F5EHkZfsIF40ji2RwtKYREAJGoAIJALIASsAQFEK1VJwQkRr7XLZD6IAKBSDEAIYAS1AiBZAMyBAiSKogyyfL7IpaLTaRWmrWIzRKyWJr2UwHP3u9/+gLnzu60VeTBcF6UiscC7WofPe5r6qXeUCjNCD7/abgQq/yAEvXQGBL1xiWTgCAAgBI5K1lrki5QA8UXB+nr94MaoqJSKKGBARyLPz7AkFPDCSZdFaW186V2llGMxsbvMydBhbFzgxwEqEAFBIgC76Gy4ELFjqoxcK7i+WYF+igL5UA8hSagcPQAIEYBAToQZgIeJEWEEYBYHRYMWxcFXX3juRpbERQiCgBdSSNxJ0IEvvcQjga1cVC28dRJj0kqZuWJi5mgBVojtPn51FELcaPSEuHVS19BpJuxGyG5hAjecLW9XlvHSl5Ugx4iIfrthQX3QhXBZcS/lxaQ+XPbvLLKW899ZWAF4pAmGi8MnTo/NzV9W69qWXkhBZhNkvP8l7D0qBGGs9gGZvUZmq5NoRYygYMRphhUiE7MEjEaAA+peA/xeJtpeS3KUrvoQ6l7+KIB4UCF8W7RpkSUvEIAmgQ7BLKKe0CXRQFIVHYgAkQMDAhN4SLNX9S/IdYamEKwEXkwnIVGFUk5/PitjFtzZuTKd1MbeLRdlIu65QVa3jhm6kCUIwm8/z4lwZCqJgvdFwlW/QWjNtvjg+mkl+8431V7+yqYVoqfVdxhxaNpxcdktcRB0RdrZSRMYoInAWitrcvXdcVJFjJVIQ8KWWCbL8sgD2IEQUluWcCLSJypqdBwYjFLIEQAEKEYFiz4AiKLDsX1yucFqa/gXgeYmNL8jkiwT1RYn8ZfB8qdsoAIUQIziREtED5CLMwLauDUUBIJDyS1mMVBjEC7sETghLXQT4ksgDACQGsWJBag+aKC/z00UWp+2NtZUsmo3OJ7mFrKxlbgmh1UxanVTFCEpKnVNobl+5Flr16JNHzW60s7Oa9jlKF9p7/qIb5wvLeym4y5K9ravKe6dJxENdcxAkDx9NHj8Z1a7ppRZxwCh8IVuyZwQhIkByTvxlIWetFdAi4D3IRScqkzCBECIAMtoL+R89CAAQATGwfJkK/WL52kWYpItp+KJKwIsHBECREMQBNEBqgBqxsraKgxRZQmVcbZWAADTTFov2jIAES0IS+JKKFwASwbSRbmxszApzMDhbFIu1ftcYN1vMrLMgVX8rzhuw93xcF8Xqyopg7URqKbd2to5snbvizJ3YQRH19Uq3N82zo+fZyfFCa63lgvd5aUAkgksdAxGB2VvHzFEYELIwiwdn4ZNP9rKcHJBHK+LBGQZ32Tl08U0RAui9V6RYrHUWCZEFlquWxbM4ZFbAy0VrgkgoguKJkZ0AI2gAhcCI/HKEfzEPyKXty0vNQMBfAtiLeAMQIAaABoAEvBdfFWWz1dakvDaVLbUyhnRWehYDSHLhfJefAMuggPM6Pzk7rYuFdqqauQHOgCoTR5PZ4MaNfqcddXtRlITNuBMpdXR0uCjnzV5MMeQ5m0Y6L4uVVuyG1dH+kQ4SrTrHz8fL5lZg4cuK/6U1LRc7srC3rtZaCbOTEkCQgtHYP3k6ZQhY/EXYYWbkZfBn9ihegIW9ZwskIoSgjAEnHsAKWwCP4hF5WTchAcpSEkZiRs+MHgCWsj4s95a5nN6XviDycoDgEsqDgF9GQUAWUIgCogAMgL7orASpXW1tlSQJi5lXYEJjra9qQYhkqT2gB2AAJRdwFhmwruvR2SSUMg6bV1Y3u53W2Xg8nZbWV/r0vOZmK+6lzZREfeeXvvPg808ePn1w551X05XOo987qqY2VGQJeq0VKoaD6XCe+2kmGgBZ+NKjGQDELddmy7IbmcUDOsBAGAG897VSnQcPzg5PpPYi4kkCFi+UszCwF/SAHsETLr9B2muNhiNflCaCwldKAToL3hJ4AeLlCke0jLQUmQUdoiB59u5CgLzERQBwud3Gci4u+cPL5TooDMAAXtABepFAwCMAiiYwvPwcZAdQ1kUriUgpAWIkz957RFDL/jRAd4kEAQG8ICCFaHpxfyWtgqBf+nJ6duYLyLJi9Wrr+itbo7Pz3afPm7pfTqqzw+F3vvfG9rXNg8PnfIympsFw4WKzeXXj/PwMXB7HCSsOmqLZ1SJ8ybIJwBKQwWXfD3tXKlQgipAEYm1Stun9+/t1XVnHLMuGUwYAcix86baITORBBTpIuEi0oPYejThRSIbQOs/iSUCBaFnuqEwIxPISAzNcRB6ECz1MAAgvg/uXQtEv5F9YXs8XpeWyfZrlMlsvs2pluawQKRaJqxJYSoHkMr/gZaZ5mYdF2JGOgrCRl3PnijBVK90OYdHurvc3olc2rowwnD8d15OzXqvvfPmDn35gwS3mC61MNREoodVt1nWdWWuUzgtbsegoJhJPwgRMwApEiYgwsEdgRO9tgeKUYkUOwAozYnh8ttjbGyEQLZs6xS8DEYpXwBcjRCQCDNoV9U638+at64agzAqpBD0apTWKEqeENXMgLhAXiDVQa6hJKpRKsAKoASqBCmD53ALUgFawFqgF7MsTfuH0lye/fPKlRg8CREGp2BXWWQYBXTtv/XKXhD81tRfVH4oQUVn4JO1UVkaT2fHxSTGfKW/XWg2Yl3/wW993g8W/+6u//ktvv92JQoN6d+98OGLx3Wf3J/WIbq6/4jLM51WcNoeLWgCEfZXnehlUEeDSeJcqOCIwWyvOIgqw91KxI1QEpO/eezIclQCpiDC7pTov4kUYL2wZxItn620We/nzv/zr48Wk+uSJMIbKiAp8bbTSAuS8BxEDDMs9V0CQSNB59AggyHDJAuFLq3wJ+v8tB16araBHWcbVSzQJBKAuMgVRYWvQhhQjMwu9FC8voxwDqC/mgCCbLT6/96gR5WHQ6vW6EbpGpNY63f/Zv/+/+PnPfnJ6dPQf/+3/5dHh6d//B//li8GoXohYV7JsrOx8/Svf+PTep0+eH8Qd0+joIFHNNNiIO4PxXC/7zAEA8Qv5CQmRwVpr65ptTVqcsEhogrjK848+eirQ9J6Zl9sUOBYWEVDCXjwzCIt37L3PF7/01bfW1q/9/vufLChRmo0Q60btAT0BLtfQMXgmQAS5RN8OhQUu0OuFQooXstGXJkAuYtSXR19e4p/LsIMe4GXnBwIQsAEgJ8pTxKi7/d7R6YGA/sUMf1FbXJKSLCJ1XsSBt9Yj+eFoFoiNSOVZ9t/8g3+oFb3Y3f1P/7f/+2arNRrPVrsbuNgfnY3q2jVbjT/5yR+dnk20SopJzb76zhuvOjuZzMZBM9AXujZeJjoURIUgAl5roxAoDBk8aeOsUkHj4WenZ2eV9yveLy76jNmJeLho2Vl6AwOLYiDhN1979U9+8sH793Zt3OgosnldeHIMF/kQeLng40vMMvMl/vtS4gW5tOLLS8XLCPNvOAC+BKDLt/gl7QMAFzq+JIApoakqbjXTO3euHpzsXypNFw8vyVe8yDzEDJ1Wa6Xbdj4Xgul8ERN6pRHpyZMXCKiUfvjsYDrLFcFKZxjULrIcxclKvz/JRlobhMiAasaQRsa1Ymrp6TzXQJdzfnkFHhSi91w5l5GQNimLADrSApw8vj8rq7gEb0H4giX1DI4Vc61AvEgFTAEacry20uhvr//Oj94vuFXONWhvPRVuuQMLMPvlGC4xNzEoAZbL/LnchmJp1ZdF19JELpdqMoi/HKWXj3z5e/LlThZEBNAsAUJDoRJaBW5qGP/mn/tGux/+4EdKIAChZekCIAysxAuCoF/u5IBohKub1/sElfXRdBHm8xoZF8UiDkNhl80WNcvaxno30l9789Ybr7z6k/cfff+nn50PM1ezrZlUbhK4cmt9vDjTKd68sxUn9Kd7QwGXluUQPHurTMjsPDOzJQzn0/zp0yPv0VnPfimZoAgyv2TPZOkF1lfs8lvXtw3JdLZA1CA0LyoQtGxFLqhmZr4sooSF+YKM8suFzQAXQeQS5n/hJ8vHX6QfvvxP/IUPiSzzG6ImiAEQMCCMWMpb1/v/0d/+n2bV/O/9F/+g8r9Aw7/8qGUkFGBEIQn3nj2J9AAo7q6ubna3zs+H0WpLbFVk2UqnbT2Dh14cvn776o0ra2Xpf/zhx+fTMYUURuJBvvXdr6xsBPsnj3yB48FwZuo/vUADBIi8c6V4G4UBomJY7r0sJkj3D8Ynp7OqatiKvVh2F9ubIYMILAO3ALB48LWh6pUbm0ZjEKU4rwHEScDsl23iIhe6CaP3wF7YMTte7tHCF5nzpTJzQQx9uU58GSf+lDZwafXiv/TK8q0aMUUwSCkzNJPyb/71X2+HnM1sYuLS1X/molBYeh+yiA+UaUWNWE1NkGTTgeT51e2d0XSQl7lGTkJipsH56Ghsf/jTn42n45/9/B5zfmUz2ry1c/X6tce7T7auNHI7bnfTLC/yRR5E7tID8ELFExAQK2xBpLYOkYMoYBRD0XxqP/jgsbWBc2KdZbbCDoCX9s/CIo6XSiAAcrXeCe/c2DRx1Oqt89kReisYePLAtffinfMsCOS9t945x86xdd578I7F8YU7XgwvXQ7zcjguyna5ROtLufSSBL2ctYs3O8ClRqSWpBuJCVT5P/krv/zNt6+eHzw/PcvCIMTSXlCuSwnkwn2WN+RFSMC2msE3v/bGWnvj9GQ0LWciKJyngdZprPH/39aXPWl2XHmdJfPe+621L13V+y5LasmybHkZz9iBFyAGAgLC8EBA8MA/wCP/AxFE8DK8EIEZlgfMEGA82B6PY8TYso2WltxSd6v37qquff22e2/mOYeH/L5Sj6Efqjtqiai+eTPPOb8twRNt7WyXZTzshd2PHr57+xGgP3P53PKZxb/2N7/+zq9/Ob/g7z/8bXeuubi6UByNlpenXV67z+r+ZC+oikNUYGIi5tSWsSsePdq4fWcNYN57LExEXQiiIgrRQCTWCnEsVFbLQV4+vzo/3fzZBzefPN8xJWdYA4sCGKulQ8tEVdSCWIzpauyk0kMwmoDh6S38rO+08ZCV9gVCamHtRcDOJrvjhfUABEQ1NENH9R9+98t/+69/geN+GNXVqIwxJJPG/28L2Nj/A1rWRyHi6vLMd775jfbC9AcffPDJrScHB31tN/d2d6e602UlRmWJAizeYbPZHdQyHJXv/OKXt+6+35wuzp5fUJZ2p3F4UB0eDdpT4E6YyISpmJmKaIwW1WceAKuqrsqyyHk00hhdVWtVB7VaVc0ETMxEJSIKjJ8DsiHVddcRg316/1G/EjBCVTBVIDRSMDWIkrpDIs5JnU+EM5gqgEsBOyft0WdPB3+XkQcATTzeC4DoZ+DEBNYGM015iY0CvvrWNYiHoTqS2gMiJZg3yQB+dxUS3KQG8dUbr7z6CuxuvfdhefMr3/z6K6/cqPr04f4Hx/0eiJkAYXbc219aOtWdafq82FjfJtT1x4+Czp5aXoqu3tvfXlhZ3NjcOuqF55tHnSl2iYFJBQ0tgEUEJcfGTpGIKAPmnJxvP1u7M6qyuvaxEgELlhJo2Wys8HV2LFCr5nUYnluBV15algjRilGlUcVhraBmuQGpAhiRcYxSV7Ugh5iC5xiRmVDV9IXpdazPPdkDk4/pmaKJAQMqGhgIgNnYFJaqEyJEhABAAKxmq6uL7ZaGUc8JU4E6iIZu7PVBTMOzYQSIBtn4M4hobtSX0QDOXbj28MHaf/iPP3j0aE3FR9Wt7b2j/mhuhEo+704NhodHvZ2r164WTdrZ67e70y+98urm7qOnG/cPhwNzowePd1wzZ09WOgeQ5FcACdGPdYwhqiATkU/xkSoyrEebG8cx5CLODMEUVEAVQFBFtAZTtUyhZ9BzuPkHX//ctcvnnu0cr2/uInYUVIlUyNRAbTzcIhEZs1NFJDQliQaKqGgKiU6ZHOUncPRJD2onL/b4wMHk34CkHxgfUeODCgEYwasRQJibmWUwDSbmopkg2Nh7k6YEBmAwN9Z1GQOmcxgfPVr7Oax986urq2cuTcdye3+0u9t/vr2H5GeWuoe9fr9fnjq90jsKmc8Pdvfr0bCR+e3NnZ//+BfkYy+MZlfms6zhc2LjDDKszY1B//H4YaqipmMVNDsTBQOf5ce7sr8bUDvM3mejGIHQxEQkRC1BakSIIqYuq/00Tl2ZW8Y4XN8+OOxXIWSiYObAcgICSMG4mG6VZuejGism1Bkim9jYhQA8PspRzMRO2kp4YVUm53vi4SYF+iQ9jQABiMwYLSdAgcHC1FROCMK1kgS59/BJrz9CZlACIwAH5hEygAzMGThETg6qsxevvPraqfsPfjMc8oP1J75oUxObc1KVZd5uXDq1uPH8eahHq2dOz02137jx0uOH9/b3duLq4tbWwWF/0O9R3nSd6dbsVHtnvdzYOb58edmpqY3DrhRERERFvHMwYYhjVUvErY1y2McYUaSMMhKpLNQiYiCQFA2qBBUq+hJfOrNybmYqxqPAbeO2xKhIal7Mm47zt1RNldTMONFOBuNLFpkAgNSMJhOvJdYLx0/8ZBNIyjAFszF0Oz7vJz81+U4DRMwMPFndzt3L189rGA7KPmihIv3BiAiTk+wFIMJeEAeMv2TKX3jzK8cb9OndJ4CZUcaFLXY7JiH3rttpT89OPXn8pKp6589dWlnqfvcb/9Az7u3tfPTbu/ef7r778f31g8OP33smXFYDLyPf8suOEHUcBZEoMPBZRkRpQnbOeWKNfjgYSISow6ADtRKQgNkARLE2EyFRMQ2Oe0W2+doXrnPzeLPXePfT7cO+MXGlpsBqBGbRWJOl0TSqqoEqRgMdM2mfidz+n/HqpCDD5HG/OAPDmAp+gcwCSy0UA3hGBuhdOjt9ZrWdNfac96FkLvi1G5/78Z+/u7azSyiIAhAM6hPCgcAhOQKnAr3jHgRZXTw11Zx7sLn2dGurUMxa+e729uLCHJh1OlMXL1188ujB9tbzO7HXdlIOexLqNz9/bXn19K/ev3W816/V2BUk0OHGzXduOgNBZHYOVNJ/va4ql2Uuy5IoAM3IFb3jMsSKHDoaWm1iPmIUoKAUlIJYFBMtTGWm6y6+9MXd+vDf/fTTdz8ZiOYqlaIFAFARsQCkYlFUFAU4of2WQIhJPbJJ+zJ51pPzZ0zCTGqAJi0JTtbhxV5o8tEMjQAckiKWb735xvJyo9XsIlr/iNFp0dZYDZnZVNQqAAYzw5pQDMGAQTmaMPDG2rPdzdNTi3Gm2Xr1+rX2zPTD9Y29o73Z6a6I9Ho9UQGFU4tnPLtWY+bwYNTKG8jZk0drH3x8HyFarBy45ZmlbiufnmrX9chZss5qNKtCNfScNZqZqpoIOw8qotG0fr7xXK10Lo/RNM01igIcjaJBDaBIgQBq2z+qf/Ie7xwdvPPRAVrLJBiYqYChKmhEVQqgFaAYoCIBqZomZMMg4RCTVAQauxTG9Tc9UJwcQQypjR63SWZ/dWIY1zUUM0VU1XB2eebNL12eW+Hz5693WrMquc/5+cZW1gDp1WitMR8JAsaKAawy8IAegaLp0uLS/OyU502LAjUsTc0Qee+od9wfjUqrDVRBdP7UUsO71dWLM+0mmZrEQVWeO3P1eytX0GVMvsiLDMwjEoELMSI4BCU21aCYAaWoMkWVGEKMdQzUG/TYIQiY8hhgH8u+x0oWQ1KNTtxxFb7/o/fQq6c5EAgCEQ10SCmiD1kRaolmaEoaSQ3NzARBiMZTlv5V71GCo0+e62c2SQScFOcXy/LJTxEAGoxPPoDyO9/51j/5p38vy3tAOUQFU/At3KFG6yzCBuEMYKFAABlYjgAGGWCO6Ak9CC4szBNbf9h3QIHIOV6emWs1G+trW+1Wp1EUEkvHmGeeDFC13xsRgCNEbMxNNxmJHSOAmnlDUENE55xDcGgQVYuiYMpDqA3TBQ6GiN5niNnU7CzQjgFCul2NiVHFFFPot4GaIkQlH9EFbNehRgkANTFqLJkcQQCwwLVQcIresmBQqooBQZQkXFFGIzBvdiIHAkgD0nhKGnvZxpgzRkuI/WdLcvK3ndQJRAaLANWVq6dDNah6vbo8HFWDYR3e/uWdP/o3f7b+vMs0Y1qYeQA18Gg5QDAgMDYkA0HQPNf+sN8QcRiDh6ggw3I47C12u1OdaSYMkcHUYpwUMVXQWpPaAyUl2TmXeS9IRGTJxTlW/okMeseOxTkGU3bIztV1zY7GPYrjxFiNeT0DQiAwBKWkmwFR4ICNysyAKAYXD6a7KliOqr6Qj5jXGkWBomKoIAqgIiGKQzUTNAWTxLzUnxUCmPQ86dzHkzFYQWVi1XuxIE+qeILhEMyIEDNnT5/e/uPvf4o2iDEfVY21zdEPfvirtU10bhkgN2MDNBQEZ+ABqkkfVRkMDMoqTBfNU4vtM5324lF9tLax4chPFU1QC72jkOg8MwZN4G76vYiQiQDBRMkARIJoACAiInKQ3BkCiOi9z33O3hGkVTOf5exQxeU5qwbnMkOUKoKN3YtM4AiU1EQdagBihkwrilsd2vv6GzNXLkz3h71bDx599Hh3JG01z5HBTE3ESrVSDaxuJhmGqU7EGNXvzF2fIcwnS2IG6Cbw6O+0SSeYRNogrKrtqYyw3t3qM7u9Xfjw5sG7N3cGehq4EQKhCkBmKIBo5gD8xAtdIwW0gdn+aNSWeLUc4eJyd+X06bOXLkDNO2tPD3Z2UNQAjFlU2CRGCRIAIWXSi0haGwMbsxuICfQZO2QSltBsNgkz1RhVY1WrSqwDovrMN4vMM3pHquoYjCwqIAGhMQKjGRmpEgrogHRnufH8H3332mvn21IdHveqS/PLpxfyn33wbO1ADJo1UHROILMIEANoBAVQARMERqBE2hoQGo9f8AnP9Vk9noD1E4rmxa/i2NMztjWQATSbOYAO+/FgZ/u9d5/u7BSep1lQxAkUBm4sMzUEY4RMIRl1EipVz89Ofe3Lrw+Ojwzg4cO33VS9snrWY1OrgXPEjAogyEhMGnyR5ZpPAvIoWgQ0TYGBE5wq6eNd+jeNpZkkpkRMBs5nYJY5z0zEjTOrK43sWR1EEIxJGRGMBBABSAA1uQgckspgtnP8j//w5W9eblh9VLuq5aw5iNm12YWp5l+8//Dmk/0aiwoawZjUOUGzqCAKACgGztA5ywgSDsKa9HFjNYqdqGBgrNyPY+9C2gl4ouak1EqhEYARWF2Vw/7g4Hj94PnTt14/12jOHw3xo3u7dx7uDer5iItm6eKWpI5O5zMDGoDz5KfbrcWZTlXuiJrLfEZgVbj40vlmu8C63lp/trmxGUET3OgIXJ5pUAQgQjCXqkl6b6KIiTAzADgDIItqypghU9SUYeSYUEWqENSMtb5wceXihbk7d7Y1QgQihx6FahLQSLU4MHVI6CR0fe8f/I3LX3mF/GAfGYBYLGuhR5bmKVr5/UvnP9366Xv3nvSOY2hgjaikllnSQgGAZeMeBgktGhCAU3D8WZ8TDWIiDifkXQQwAAYjGzdMOHmjCciBlgYHLY+DnQ0st14+uzDbhsIfuOnOy2evfHT+8H+9/WR7mAvnqA1Ur2hCFahPeLhjdFK9dv06Y9Uf1u123izQWVYeDB/c/rgx3QHV0WBgzK3Mt9rtrNPNM7/5fKOuh55Y1QwN4UTvDHlKS1c1AGemBsZsvf5hVdVZUbgUZ04EYAgCRsjD5rT9rb/zleKnH9y69TTGYEYWTZzVpojGRkhMULf8xnfeWvzqSwu+2pm07JR5RwSARETOV996fenycucvb67/5u7uZs0VZECK6sgcgaJFtFowi4aGKQ+REEjHz/1kGSbwXDKAjxsex9ZEIDSySRFWGgEeFbqz3OrO6XB1dqnbYuZYsHkakR8svLo832r+2//56e5wRWkOUAEqUHCmBkAaQI9furrw1bfOZw299vLnl0/N14Oj4739qj/o9fuHx8dFlmXezUxNtxpFXjSo2egfHY16fYmCJIQYUZn5ZAESfDI25tVhHzXGum8SnPPkshS3n5yNiFhVVdZkIcc2F2Pj9ieP3377g9sfPysHWR1cL1ofolQAA8rDwVvXhn//G4ttiozeu5ECqqGBGGKIUtda11U17Fd96w3cgz34s1trNx9u7R3XIhlCy9ArikEkTOQc2VidrQCZgUeA8dkyafRO+KQE2uAJEA2aJI5mewUevHKu+cWLcxemWzO+keVoNOoULvcOXYG+U/v2D9/f++Mf90Z41UBBRmDIyASK0G/4je/93c/deLX98rULb37pi0UrI5Nn9+89uHNPa2EiHqdumYoAkSbXO6KKSoxmBh6ICZGYyXufek5JN2QMhztkAWQQYwlGqgSq3jvHbCoANhgM8naLs5ZpjoBZ7nq90UfvP/jJj+48fNQ/jvkQxOqa+9XZxtH3vj17cWa7ABetCT4AO+dzQFXVGDUGDYp1jNAfaalDybYqXjsqbz/e/+jOs3vP+r3YrNBDlnMYgZKiT84tSn4j4OTXBEvSpfGpn9RUmuTAVAMoQnBcAwyR6rPN6uVzM2fmqOtGM83G0twpYm4WPmP1aM6xglPCA5j+13/y/Ff3GoqzppHMgAG09Hj4jd87/wdfWw714zbhyqmloulN4+Co54Byzhw57x0ReueYyVLkNlEy/yJAjLGGiIipAjuXfHljDQJKHKCMQn348N4ndRWLols0Gq1Ws9VuOaYkTSCfGeaMDjEYlBq0rvj5Ov/7779z89Oj0pTq/WJ4+O2X/e+/2u3gpkkUztAJuMz7AslAMbU0QVmMTUKoKhGJUUaVDrR5MJDbzw5//fHax492d46CaoZQRG5EQFQjFNXKQMftTYKoyQDNxhjyBJMGTyAOSsKjhu9furDw1uWFs3OtGS9NltGw32h3mq1uhsQpUCu1rCIjo3c28I9+8LhXXYtaKI2YBpkbvvbS/Dd+71Juu+2mtBhz74uGRzKLAjE5qIgdsWPnnfcOAHjiOCJmYiYiI/3MBawqqoTJEpHAbuc58tLicrPR9b5JmU9THBKoRBVBUsAQQ6irgciwkXf2d/fWNo4PjveybMpEoN6Z6ei1c4XTKgQ2isY1ykm4kpmh44zJZaZIGPNCC08mzRg6ZV2pzXZseX7mxtXZjV395O76O58c3V/fVyOk3BgBHaG38R0PltItDaJpAHNJdw4gaOoxepSZJq8szC/NzS3MuWA7h4P+1atXm6rW7fTLYUZSZA7NQITMVGIsa094ehbOL4a7T0YGTcUyw/3VOTfb3K8Ppdkg5sIXBYlJFbxnD46SD51ATNHSNB8wbVJCALQQEJGdS4H0NPlzgh6qqkOrwBTBt9pzSK5Wc2LRVGKd4KDCZzFGJO9cgSaGxuYXl679yX/706cbxwGaDrRw0Cy0YK5HBwADJQvqkDyjSl0xMxNqrNQJeQLPGQVPDOgjkZCDGDKgImrHw2qLr8+feuPa8q17W+/f3r6zPtqv8wANgJzAzIQhAgQGZcDctQYRBFsGDrWPcNDOdl6/furysp/vRuIqam9u5dxAbafgVddujEYzhTs8PmoXmYYAEmOoRUKUKowCa3eh1blN+8hVJz9e7fQyPZ51S3nAzvS8cxwJFdApSqWOwDOP7TyIKaeTlZnRWBA4qc0RwSyGOk0AxkSc+pXJKOMMCNOYoAFijS6zGB2jy9CUiNhEKUlmIbCDGDPmmV/8xZ3f/J+nQEVVDSspActDqZ/sxfOzXSpHxBWzZCCBYnDks5zRoUFQ4pA5yYiAHSOh59w7hDCKMWbEwlSRsehSdz+7ytfOX1rfC/ef7q9tH41GPTNi0qlOo1lk3uHUVLfZaT9c23j6fG9751Dl+Mxy841Li1dOzyxP8fx0I8v9B7+9df3CuStvvfE//vRHr1y70K3i9rPHeCRlv9fwWYyhquqyLIf1cBhGe3Vd1wPTanlhdXEWizqeWV5Zne80HUsdvM8Z0RExIjEzERARjeEpUVVTjRqiZRk7zylIlp0jJPJqE4KJmZLWbdwFBRkyVFofk1aIqLUAGiIooSJJVCJmSt2qmoF3s8/X9F/9y//y+DmXqCOpJPQz6dnw8FQjvH5x7spy1uQhhcM29pEyJe+d95ln59gzoToGchmQV3I+azh2KFUUEQMFrmoYDetS9gfDUQzE3Kwqq6o4LK0MKrHyjvKcwSIQofdG/rBX1xUg1J7LhYIabN1m1iwKc/72vfuf7q39s3/xz2O3oVFWis69X79/63//smFUZMVoWFYhViHu9o62+sdrO/2Pn406p66fO7uSWW+KG3MzUw5rZiSXtadnGkXuvfNZBuyQMC0Aop44Tc0sxpguFmQmIk4hVwncJAI0m9xbMGaenAISApJpDGFUDgdlXQ0Hg0HeajenppwvvCfnmIEEDLDd67d/8F9/9uhpaX4FoC/aMwzB0Lj99Li38ZvHv52mq2dnL52axiJvmsRBLVAKj7zD3JHlGHNkduwzYFfHvnjPrkgsSBrdGamj87kv6+GQzJABCo4dLEMdAgKp8wgAhJh7NhSYanW7i45hY+PJqAyNwmeeKpSswOlT3e6AjjbXT5++cRjqyvvV69d/8/NfDgYDgnI0Cv3BaGt3b2P/8LCWLG9/6fM3ppdWpOzNFs1W3lStnHOiolpL1QcnyLkpIKihAzEZo5yUjI5E5L0TSQgEIlIIMYQIZIiYeTc2tSXYHQwAHI6h0Li/u7u9uT03s9TuzM4snvJFgZypQayjCQoiUPb8ufzn//STD25uqp8KEiqpwESjxohgmXI7OLq717+/tzd7p76ylF87la3MtXMnFPqNWClEUDZpOhbnIxEgWl40qAAgTGa1zLmikccho6JrksYAooQuN2uoN20oAmVkAJ7YI1C6ATSMymHoNlqtdiZRDBUpmqO83eg0mruPnpy5fqXVbUfKmgsr+4EOdvvHB8f7u4fDUZkXjdb04oXVc2dPX6hE9vuHRavdBDaLznGCmLqdYna+4xzXIVpU9DkqII6DcBBSSp5KcjVMvNU0gWglSlWHSMA8ziCk1JurOgJMKoXOVLfTnimKaTMlz0YIxBYiISM5QETX/Yu3f3Xzo+1KWjUEsZFqnWBkEVQxFTXIxM1FhaNR7/nd7V/d2Zmfar50YenayuKpLgrXzipXS40qdWRU58CULA4488AYRX3RBkMph57MN6yq6hgVGHPI2HwtMZiQc5YSX1lFyxBUVaJBkLLJOjM/HwS29/aG+0NWsqjP7j688eX+7Mpq9B1DfbrX//Tu00FvsDQ7d+7qpZm5uUYzP7OyUrjWs83nOaszRnHColGAqDvV/da3vzY320KXjcr6+frm2trWqKyZ/fhFxjSWpFgPCxJUBBF17PdIl9db0GgiY/tXujzJwBEqECHmLkNTrCS6LDdElMR1sSGSC+Aajx4M331/s9a8UosKUWO0dB0ISjI4Ats43Ukr9RUvOqW9ver25lbbPV6epourc5cX2xdmmjPtIteScaBx2B8NDI+Khkd2BoUOQpQYEH2j4MwTO1J1wIFiBaaoZkYshEjEBGzRW1UBRAuRwfb2ttrtZkZuyuHx3mC/Lnd2q1+/f2fq7IWr/frqG2/d/vjup3ceGLjPvXxjut32xK2idfXqlalu++6du+WoTwBAErkSU0SMWl288vLlV1+SMECR6bnphbnZVqN58+bHveNjJDa0k6nQzFQFU2Dz5FBKQwERgUhCQVO+hYGZmhONlEZ6ZOcdIINjEyEEEAkxHh0dDsue2vQPf/h0d0eq2tVBRVHUoqAqTuJSwYxETUxEIxjW5koTcCzQHonb3Rx+sr5Z6HChqRdXFi+vzJxfas1OFWRlhoHqmlGaRd7IAVF9ljMQE6sBMjGQoVoifHW8hdFUIqCSpyzUAaKwcy4vPrl7++zicqYMdWi4fHn+zDvv3v7hf//zC/efzP3s17dvPxwNhnNT861GCxHbrdbrr702NdX95M7HB4eH6T45BRAQsMSZgGM63tvPc2JQCzrsjzSG3DnhCIxjtm4sYgVEYORk8EWwsfDDEqRiACgiqkqmCBqjONUIFieCAzAwjXUM9WgwRLUQw9Hx8dzS6fWn8ePfPjJdUgGJUZQEQCUZXAhM1ciAFJL8RAVQAWoQQVDwBp64Q2bHNnp2dPDh1l7jvbWFFp471Tm10D0zn093eK5bdMrYynqtXKaI8tyh1g4MvZOojpCBFREZUsZMHYJDcsB1XQ4HIzPICLudLpp9cuuT2UYXOPPAn7t0fefN43duvb+wcvrOnXdv3bo31eoUeV7XZbs5fePGjeWVpY8+/HB9fd0512w2T5Iz0rWZWca9/YObv/rNhfOnnefhcNQ7Hm5t7lbDIajFGC1d3ZtyGlTBkrBpbH0As3RJF03SH9ICgASJQUT+L5r3RBn2BxNMAAAAAElFTkSuQmCC\n",
                "text/plain": "<PIL.Image.Image image mode=RGB size=128x128 at 0x7F2CD4C44208>"
              }
            ],
            "_view_module": "@jupyter-widgets/output",
            "_model_module_version": "1.0.0",
            "_view_count": null,
            "_view_module_version": "1.0.0",
            "layout": "IPY_MODEL_27afb5af5d514bb4bcfdafd5d301a311",
            "_model_module": "@jupyter-widgets/output"
          }
        },
        "03161643a17b4e4da007356981e80e3c": {
          "model_module": "@jupyter-widgets/controls",
          "model_name": "LabelModel",
          "state": {
            "_view_name": "LabelView",
            "style": "IPY_MODEL_2dd21a1043c64104a5a5a563aa8ed079",
            "_dom_classes": [],
            "description": "",
            "_model_name": "LabelModel",
            "placeholder": "​",
            "_view_module": "@jupyter-widgets/controls",
            "_model_module_version": "1.5.0",
            "value": "Prediction: black; Probability: 0.5058",
            "_view_count": null,
            "_view_module_version": "1.5.0",
            "description_tooltip": null,
            "_model_module": "@jupyter-widgets/controls",
            "layout": "IPY_MODEL_48a938b6799b4c7e9721f663641f882f"
          }
        },
        "1c9e498d0bc64b81946531f61587ee87": {
          "model_module": "@jupyter-widgets/controls",
          "model_name": "DescriptionStyleModel",
          "state": {
            "_view_name": "StyleView",
            "_model_name": "DescriptionStyleModel",
            "description_width": "",
            "_view_module": "@jupyter-widgets/base",
            "_model_module_version": "1.5.0",
            "_view_count": null,
            "_view_module_version": "1.2.0",
            "_model_module": "@jupyter-widgets/controls"
          }
        },
        "c9129338a83d421783e3c3a9dd60ad9e": {
          "model_module": "@jupyter-widgets/base",
          "model_name": "LayoutModel",
          "state": {
            "_view_name": "LayoutView",
            "grid_template_rows": null,
            "right": null,
            "justify_content": null,
            "_view_module": "@jupyter-widgets/base",
            "overflow": null,
            "_model_module_version": "1.2.0",
            "_view_count": null,
            "flex_flow": null,
            "width": null,
            "min_width": null,
            "border": null,
            "align_items": null,
            "bottom": null,
            "_model_module": "@jupyter-widgets/base",
            "top": null,
            "grid_column": null,
            "overflow_y": null,
            "overflow_x": null,
            "grid_auto_flow": null,
            "grid_area": null,
            "grid_template_columns": null,
            "flex": null,
            "_model_name": "LayoutModel",
            "justify_items": null,
            "grid_row": null,
            "max_height": null,
            "align_content": null,
            "visibility": null,
            "align_self": null,
            "height": null,
            "min_height": null,
            "padding": null,
            "grid_auto_rows": null,
            "grid_gap": null,
            "max_width": null,
            "order": null,
            "_view_module_version": "1.2.0",
            "grid_template_areas": null,
            "object_position": null,
            "object_fit": null,
            "grid_auto_columns": null,
            "margin": null,
            "display": null,
            "left": null
          }
        },
        "f504ebf81d914f3683d18a1b8924a8ac": {
          "model_module": "@jupyter-widgets/controls",
          "model_name": "ButtonStyleModel",
          "state": {
            "_view_name": "StyleView",
            "_model_name": "ButtonStyleModel",
            "_view_module": "@jupyter-widgets/base",
            "_model_module_version": "1.5.0",
            "_view_count": null,
            "button_color": null,
            "font_weight": "",
            "_view_module_version": "1.2.0",
            "_model_module": "@jupyter-widgets/controls"
          }
        },
        "cdd90d9db9d84d9db90d92ac75f4eb18": {
          "model_module": "@jupyter-widgets/base",
          "model_name": "LayoutModel",
          "state": {
            "_view_name": "LayoutView",
            "grid_template_rows": null,
            "right": null,
            "justify_content": null,
            "_view_module": "@jupyter-widgets/base",
            "overflow": null,
            "_model_module_version": "1.2.0",
            "_view_count": null,
            "flex_flow": null,
            "width": null,
            "min_width": null,
            "border": null,
            "align_items": null,
            "bottom": null,
            "_model_module": "@jupyter-widgets/base",
            "top": null,
            "grid_column": null,
            "overflow_y": null,
            "overflow_x": null,
            "grid_auto_flow": null,
            "grid_area": null,
            "grid_template_columns": null,
            "flex": null,
            "_model_name": "LayoutModel",
            "justify_items": null,
            "grid_row": null,
            "max_height": null,
            "align_content": null,
            "visibility": null,
            "align_self": null,
            "height": null,
            "min_height": null,
            "padding": null,
            "grid_auto_rows": null,
            "grid_gap": null,
            "max_width": null,
            "order": null,
            "_view_module_version": "1.2.0",
            "grid_template_areas": null,
            "object_position": null,
            "object_fit": null,
            "grid_auto_columns": null,
            "margin": null,
            "display": null,
            "left": null
          }
        },
        "2dd21a1043c64104a5a5a563aa8ed079": {
          "model_module": "@jupyter-widgets/controls",
          "model_name": "DescriptionStyleModel",
          "state": {
            "_view_name": "StyleView",
            "_model_name": "DescriptionStyleModel",
            "description_width": "",
            "_view_module": "@jupyter-widgets/base",
            "_model_module_version": "1.5.0",
            "_view_count": null,
            "_view_module_version": "1.2.0",
            "_model_module": "@jupyter-widgets/controls"
          }
        },
        "48a938b6799b4c7e9721f663641f882f": {
          "model_module": "@jupyter-widgets/base",
          "model_name": "LayoutModel",
          "state": {
            "_view_name": "LayoutView",
            "grid_template_rows": null,
            "right": null,
            "justify_content": null,
            "_view_module": "@jupyter-widgets/base",
            "overflow": null,
            "_model_module_version": "1.2.0",
            "_view_count": null,
            "flex_flow": null,
            "width": null,
            "min_width": null,
            "border": null,
            "align_items": null,
            "bottom": null,
            "_model_module": "@jupyter-widgets/base",
            "top": null,
            "grid_column": null,
            "overflow_y": null,
            "overflow_x": null,
            "grid_auto_flow": null,
            "grid_area": null,
            "grid_template_columns": null,
            "flex": null,
            "_model_name": "LayoutModel",
            "justify_items": null,
            "grid_row": null,
            "max_height": null,
            "align_content": null,
            "visibility": null,
            "align_self": null,
            "height": null,
            "min_height": null,
            "padding": null,
            "grid_auto_rows": null,
            "grid_gap": null,
            "max_width": null,
            "order": null,
            "_view_module_version": "1.2.0",
            "grid_template_areas": null,
            "object_position": null,
            "object_fit": null,
            "grid_auto_columns": null,
            "margin": null,
            "display": null,
            "left": null
          }
        },
        "27afb5af5d514bb4bcfdafd5d301a311": {
          "model_module": "@jupyter-widgets/base",
          "model_name": "LayoutModel",
          "state": {
            "_view_name": "LayoutView",
            "grid_template_rows": null,
            "right": null,
            "justify_content": null,
            "_view_module": "@jupyter-widgets/base",
            "overflow": null,
            "_model_module_version": "1.2.0",
            "_view_count": null,
            "flex_flow": null,
            "width": null,
            "min_width": null,
            "border": null,
            "align_items": null,
            "bottom": null,
            "_model_module": "@jupyter-widgets/base",
            "top": null,
            "grid_column": null,
            "overflow_y": null,
            "overflow_x": null,
            "grid_auto_flow": null,
            "grid_area": null,
            "grid_template_columns": null,
            "flex": null,
            "_model_name": "LayoutModel",
            "justify_items": null,
            "grid_row": null,
            "max_height": null,
            "align_content": null,
            "visibility": null,
            "align_self": null,
            "height": null,
            "min_height": null,
            "padding": null,
            "grid_auto_rows": null,
            "grid_gap": null,
            "max_width": null,
            "order": null,
            "_view_module_version": "1.2.0",
            "grid_template_areas": null,
            "object_position": null,
            "object_fit": null,
            "grid_auto_columns": null,
            "margin": null,
            "display": null,
            "left": null
          }
        }
      }
    }
  },
  "cells": [
    {
      "cell_type": "markdown",
      "metadata": {
        "id": "view-in-github",
        "colab_type": "text"
      },
      "source": [
        "<a href=\"https://colab.research.google.com/github/obfrap/fast_ai/blob/master/bears.ipynb\" target=\"_parent\"><img src=\"https://colab.research.google.com/assets/colab-badge.svg\" alt=\"Open In Colab\"/></a>"
      ]
    },
    {
      "cell_type": "code",
      "metadata": {
        "id": "YyMcdGnGLzJW"
      },
      "source": [
        "from fastbook import *\n",
        "from fastai.vision.widgets import *"
      ],
      "execution_count": 3,
      "outputs": []
    },
    {
      "cell_type": "code",
      "metadata": {
        "id": "6fGnAxXSmWmj",
        "outputId": "b88f62ea-b05c-40aa-f443-36fe0e47bffa",
        "colab": {
          "base_uri": "https://localhost:8080/",
          "height": 34
        }
      },
      "source": [
        "#cd gdrive/\"My Drive\"/"
      ],
      "execution_count": 4,
      "outputs": [
        {
          "output_type": "stream",
          "text": [
            "/content/gdrive/My Drive\n"
          ],
          "name": "stdout"
        }
      ]
    },
    {
      "cell_type": "code",
      "metadata": {
        "id": "zWHvsFHtl7OR"
      },
      "source": [
        "path = Path()\n",
        "learn_inf = load_learner(path/'export.pkl', cpu=True)\n",
        "btn_upload = widgets.FileUpload()\n",
        "out_pl = widgets.Output()\n",
        "lbl_pred = widgets.Label()"
      ],
      "execution_count": 5,
      "outputs": []
    },
    {
      "cell_type": "code",
      "metadata": {
        "id": "6-yd5LRIgEPY"
      },
      "source": [
        "def on_data_change(change):\n",
        "    lbl_pred.value = ''\n",
        "    img = PILImage.create(btn_upload.data[-1])\n",
        "    out_pl.clear_output()\n",
        "    with out_pl: display(img.to_thumb(128,128))\n",
        "    pred,pred_idx,probs = learn_inf.predict(img)\n",
        "    lbl_pred.value = f'Prediction: {pred}; Probability: {probs[pred_idx]:.04f}'"
      ],
      "execution_count": 6,
      "outputs": []
    },
    {
      "cell_type": "code",
      "metadata": {
        "id": "9N9VISRUmAGu"
      },
      "source": [
        "btn_upload.observe(on_data_change, names=['data'])"
      ],
      "execution_count": 7,
      "outputs": []
    },
    {
      "cell_type": "code",
      "metadata": {
        "id": "DuKeT11gmMa0",
        "outputId": "d9035e48-a80b-49c7-f18b-5823c4ccda14",
        "colab": {
          "base_uri": "https://localhost:8080/",
          "height": 241,
          "referenced_widgets": [
            "3ba81f3418ef486db070378eb307372f",
            "efca9c7e2f854c0bb803b8ef043903c6",
            "b74b94770a0348e393dd7193b6469976",
            "382c4c8d562343348509d79c239b77b4",
            "99c48e07d5904a9093e0de07fb63595d",
            "03161643a17b4e4da007356981e80e3c",
            "1c9e498d0bc64b81946531f61587ee87",
            "c9129338a83d421783e3c3a9dd60ad9e",
            "f504ebf81d914f3683d18a1b8924a8ac",
            "cdd90d9db9d84d9db90d92ac75f4eb18",
            "2dd21a1043c64104a5a5a563aa8ed079",
            "48a938b6799b4c7e9721f663641f882f",
            "27afb5af5d514bb4bcfdafd5d301a311"
          ]
        }
      },
      "source": [
        "display(VBox([widgets.Label('Select your bear!'), btn_upload, out_pl, lbl_pred]))"
      ],
      "execution_count": 8,
      "outputs": [
        {
          "output_type": "display_data",
          "data": {
            "application/vnd.jupyter.widget-view+json": {
              "model_id": "3ba81f3418ef486db070378eb307372f",
              "version_minor": 0,
              "version_major": 2
            },
            "text/plain": [
              "VBox(children=(Label(value='Select your bear!'), FileUpload(value={}, description='Upload'), Output(), Label(v…"
            ]
          },
          "metadata": {
            "tags": []
          }
        },
        {
          "output_type": "display_data",
          "data": {
            "text/html": [
              ""
            ],
            "text/plain": [
              "<IPython.core.display.HTML object>"
            ]
          },
          "metadata": {
            "tags": []
          }
        }
      ]
    }
  ]
}